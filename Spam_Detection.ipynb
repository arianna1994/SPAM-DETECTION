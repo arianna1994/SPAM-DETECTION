{
  "nbformat": 4,
  "nbformat_minor": 0,
  "metadata": {
    "colab": {
      "provenance": [],
      "authorship_tag": "ABX9TyMKYETUnzbno+FZmMPTXbbT",
      "include_colab_link": true
    },
    "kernelspec": {
      "name": "python3",
      "display_name": "Python 3"
    },
    "language_info": {
      "name": "python"
    }
  },
  "cells": [
    {
      "cell_type": "markdown",
      "metadata": {
        "id": "view-in-github",
        "colab_type": "text"
      },
      "source": [
        "<a href=\"https://colab.research.google.com/github/arianna1994/SPAM-DETECTION/blob/main/Spam_Detection.ipynb\" target=\"_parent\"><img src=\"https://colab.research.google.com/assets/colab-badge.svg\" alt=\"Open In Colab\"/></a>"
      ]
    },
    {
      "cell_type": "markdown",
      "source": [
        "# **PROGETTO SPAM DETECTION**\n",
      ],
      "metadata": {
        "id": "1xECH1orHkJn"
      }
    },
    {
      "cell_type": "markdown",
      "source": [
        "### **Importo librerie**"
      ],
      "metadata": {
        "id": "JRJxveyYIC-n"
      }
    },
    {
      "cell_type": "code",
      "source": [
        "import pandas as pd\n",
        "import numpy as np\n",
        "import string\n",
        "import spacy\n",
        "import nltk\n",
        "from nltk.corpus import stopwords\n",
        "import re\n",
        "from sklearn.feature_extraction.text import TfidfVectorizer\n",
        "from sklearn.model_selection import train_test_split\n",
        "from sklearn.neural_network import MLPClassifier\n",
        "import spacy\n",
        "import gensim\n",
        "from gensim.utils import simple_preprocess\n",
        "import gensim\n",
        "from pprint import pprint #ci fa print più formatati\n",
        "import gensim.corpora as corpora\n",
        "from gensim.models import Word2Vec\n",
        "import gensim.downloader\n",
        "from gensim.parsing.preprocessing import preprocess_string, strip_punctuation,strip_numeric\n",
        "from scipy import spatial\n",
        "\n",
        "nltk.download('stopwords')"
      ],
      "metadata": {
        "colab": {
          "base_uri": "https://localhost:8080/"
        },
        "id": "T_nNXQ_mIKLU",
        "outputId": "658db169-ff03-4374-9875-7f2b0ee2a42d"
      },
      "execution_count": null,
      "outputs": [
        {
          "output_type": "stream",
          "name": "stderr",
          "text": [
            "[nltk_data] Downloading package stopwords to /root/nltk_data...\n",
            "[nltk_data]   Package stopwords is already up-to-date!\n"
          ]
        },
        {
          "output_type": "execute_result",
          "data": {
            "text/plain": [
              "True"
            ]
          },
          "metadata": {},
          "execution_count": 1
        }
      ]
    },
    {
      "cell_type": "markdown",
      "source": [
        "### **Importo dataset**"
      ],
      "metadata": {
        "id": "Mqv-sgnlJDvv"
      }
    },
    {
      "cell_type": "code",
      "source": [
        "dataset = pd.read_csv(\"spam_dataset.csv\")"
      ],
      "metadata": {
        "id": "rwiLYgUgK0Lk"
      },
      "execution_count": null,
      "outputs": []
    },
    {
      "cell_type": "code",
      "source": [
        "dataset"
      ],
      "metadata": {
        "colab": {
          "base_uri": "https://localhost:8080/",
          "height": 419
        },
        "id": "2PX65CToIkYc",
        "outputId": "242223fd-8826-4291-c6ba-31be79c943bb"
      },
      "execution_count": null,
      "outputs": [
        {
          "output_type": "execute_result",
          "data": {
            "text/plain": [
              "      Unnamed: 0 label                                               text  \\\n",
              "0            605   ham  Subject: enron methanol ; meter # : 988291\\nth...   \n",
              "1           2349   ham  Subject: hpl nom for january 9 , 2001\\n( see a...   \n",
              "2           3624   ham  Subject: neon retreat\\nho ho ho , we ' re arou...   \n",
              "3           4685  spam  Subject: photoshop , windows , office . cheap ...   \n",
              "4           2030   ham  Subject: re : indian springs\\nthis deal is to ...   \n",
              "...          ...   ...                                                ...   \n",
              "5166        1518   ham  Subject: put the 10 on the ft\\nthe transport v...   \n",
              "5167         404   ham  Subject: 3 / 4 / 2000 and following noms\\nhpl ...   \n",
              "5168        2933   ham  Subject: calpine daily gas nomination\\n>\\n>\\nj...   \n",
              "5169        1409   ham  Subject: industrial worksheets for august 2000...   \n",
              "5170        4807  spam  Subject: important online banking alert\\ndear ...   \n",
              "\n",
              "      label_num  \n",
              "0             0  \n",
              "1             0  \n",
              "2             0  \n",
              "3             1  \n",
              "4             0  \n",
              "...         ...  \n",
              "5166          0  \n",
              "5167          0  \n",
              "5168          0  \n",
              "5169          0  \n",
              "5170          1  \n",
              "\n",
              "[5171 rows x 4 columns]"
            ],
            "text/html": [
              "\n",
              "  <div id=\"df-9092e12e-cab1-4dda-869c-890cfecc838b\" class=\"colab-df-container\">\n",
              "    <div>\n",
              "<style scoped>\n",
              "    .dataframe tbody tr th:only-of-type {\n",
              "        vertical-align: middle;\n",
              "    }\n",
              "\n",
              "    .dataframe tbody tr th {\n",
              "        vertical-align: top;\n",
              "    }\n",
              "\n",
              "    .dataframe thead th {\n",
              "        text-align: right;\n",
              "    }\n",
              "</style>\n",
              "<table border=\"1\" class=\"dataframe\">\n",
              "  <thead>\n",
              "    <tr style=\"text-align: right;\">\n",
              "      <th></th>\n",
              "      <th>Unnamed: 0</th>\n",
              "      <th>label</th>\n",
              "      <th>text</th>\n",
              "      <th>label_num</th>\n",
              "    </tr>\n",
              "  </thead>\n",
              "  <tbody>\n",
              "    <tr>\n",
              "      <th>0</th>\n",
              "      <td>605</td>\n",
              "      <td>ham</td>\n",
              "      <td>Subject: enron methanol ; meter # : 988291\\nth...</td>\n",
              "      <td>0</td>\n",
              "    </tr>\n",
              "    <tr>\n",
              "      <th>1</th>\n",
              "      <td>2349</td>\n",
              "      <td>ham</td>\n",
              "      <td>Subject: hpl nom for january 9 , 2001\\n( see a...</td>\n",
              "      <td>0</td>\n",
              "    </tr>\n",
              "    <tr>\n",
              "      <th>2</th>\n",
              "      <td>3624</td>\n",
              "      <td>ham</td>\n",
              "      <td>Subject: neon retreat\\nho ho ho , we ' re arou...</td>\n",
              "      <td>0</td>\n",
              "    </tr>\n",
              "    <tr>\n",
              "      <th>3</th>\n",
              "      <td>4685</td>\n",
              "      <td>spam</td>\n",
              "      <td>Subject: photoshop , windows , office . cheap ...</td>\n",
              "      <td>1</td>\n",
              "    </tr>\n",
              "    <tr>\n",
              "      <th>4</th>\n",
              "      <td>2030</td>\n",
              "      <td>ham</td>\n",
              "      <td>Subject: re : indian springs\\nthis deal is to ...</td>\n",
              "      <td>0</td>\n",
              "    </tr>\n",
              "    <tr>\n",
              "      <th>...</th>\n",
              "      <td>...</td>\n",
              "      <td>...</td>\n",
              "      <td>...</td>\n",
              "      <td>...</td>\n",
              "    </tr>\n",
              "    <tr>\n",
              "      <th>5166</th>\n",
              "      <td>1518</td>\n",
              "      <td>ham</td>\n",
              "      <td>Subject: put the 10 on the ft\\nthe transport v...</td>\n",
              "      <td>0</td>\n",
              "    </tr>\n",
              "    <tr>\n",
              "      <th>5167</th>\n",
              "      <td>404</td>\n",
              "      <td>ham</td>\n",
              "      <td>Subject: 3 / 4 / 2000 and following noms\\nhpl ...</td>\n",
              "      <td>0</td>\n",
              "    </tr>\n",
              "    <tr>\n",
              "      <th>5168</th>\n",
              "      <td>2933</td>\n",
              "      <td>ham</td>\n",
              "      <td>Subject: calpine daily gas nomination\\n&gt;\\n&gt;\\nj...</td>\n",
              "      <td>0</td>\n",
              "    </tr>\n",
              "    <tr>\n",
              "      <th>5169</th>\n",
              "      <td>1409</td>\n",
              "      <td>ham</td>\n",
              "      <td>Subject: industrial worksheets for august 2000...</td>\n",
              "      <td>0</td>\n",
              "    </tr>\n",
              "    <tr>\n",
              "      <th>5170</th>\n",
              "      <td>4807</td>\n",
              "      <td>spam</td>\n",
              "      <td>Subject: important online banking alert\\ndear ...</td>\n",
              "      <td>1</td>\n",
              "    </tr>\n",
              "  </tbody>\n",
              "</table>\n",
              "<p>5171 rows × 4 columns</p>\n",
              "</div>\n",
              "    <div class=\"colab-df-buttons\">\n",
              "\n",
              "  <div class=\"colab-df-container\">\n",
              "    <button class=\"colab-df-convert\" onclick=\"convertToInteractive('df-9092e12e-cab1-4dda-869c-890cfecc838b')\"\n",
              "            title=\"Convert this dataframe to an interactive table.\"\n",
              "            style=\"display:none;\">\n",
              "\n",
              "  <svg xmlns=\"http://www.w3.org/2000/svg\" height=\"24px\" viewBox=\"0 -960 960 960\">\n",
              "    <path d=\"M120-120v-720h720v720H120Zm60-500h600v-160H180v160Zm220 220h160v-160H400v160Zm0 220h160v-160H400v160ZM180-400h160v-160H180v160Zm440 0h160v-160H620v160ZM180-180h160v-160H180v160Zm440 0h160v-160H620v160Z\"/>\n",
              "  </svg>\n",
              "    </button>\n",
              "\n",
              "  <style>\n",
              "    .colab-df-container {\n",
              "      display:flex;\n",
              "      gap: 12px;\n",
              "    }\n",
              "\n",
              "    .colab-df-convert {\n",
              "      background-color: #E8F0FE;\n",
              "      border: none;\n",
              "      border-radius: 50%;\n",
              "      cursor: pointer;\n",
              "      display: none;\n",
              "      fill: #1967D2;\n",
              "      height: 32px;\n",
              "      padding: 0 0 0 0;\n",
              "      width: 32px;\n",
              "    }\n",
              "\n",
              "    .colab-df-convert:hover {\n",
              "      background-color: #E2EBFA;\n",
              "      box-shadow: 0px 1px 2px rgba(60, 64, 67, 0.3), 0px 1px 3px 1px rgba(60, 64, 67, 0.15);\n",
              "      fill: #174EA6;\n",
              "    }\n",
              "\n",
              "    .colab-df-buttons div {\n",
              "      margin-bottom: 4px;\n",
              "    }\n",
              "\n",
              "    [theme=dark] .colab-df-convert {\n",
              "      background-color: #3B4455;\n",
              "      fill: #D2E3FC;\n",
              "    }\n",
              "\n",
              "    [theme=dark] .colab-df-convert:hover {\n",
              "      background-color: #434B5C;\n",
              "      box-shadow: 0px 1px 3px 1px rgba(0, 0, 0, 0.15);\n",
              "      filter: drop-shadow(0px 1px 2px rgba(0, 0, 0, 0.3));\n",
              "      fill: #FFFFFF;\n",
              "    }\n",
              "  </style>\n",
              "\n",
              "    <script>\n",
              "      const buttonEl =\n",
              "        document.querySelector('#df-9092e12e-cab1-4dda-869c-890cfecc838b button.colab-df-convert');\n",
              "      buttonEl.style.display =\n",
              "        google.colab.kernel.accessAllowed ? 'block' : 'none';\n",
              "\n",
              "      async function convertToInteractive(key) {\n",
              "        const element = document.querySelector('#df-9092e12e-cab1-4dda-869c-890cfecc838b');\n",
              "        const dataTable =\n",
              "          await google.colab.kernel.invokeFunction('convertToInteractive',\n",
              "                                                    [key], {});\n",
              "        if (!dataTable) return;\n",
              "\n",
              "        const docLinkHtml = 'Like what you see? Visit the ' +\n",
              "          '<a target=\"_blank\" href=https://colab.research.google.com/notebooks/data_table.ipynb>data table notebook</a>'\n",
              "          + ' to learn more about interactive tables.';\n",
              "        element.innerHTML = '';\n",
              "        dataTable['output_type'] = 'display_data';\n",
              "        await google.colab.output.renderOutput(dataTable, element);\n",
              "        const docLink = document.createElement('div');\n",
              "        docLink.innerHTML = docLinkHtml;\n",
              "        element.appendChild(docLink);\n",
              "      }\n",
              "    </script>\n",
              "  </div>\n",
              "\n",
              "\n",
              "<div id=\"df-7ad7b13a-3b6e-47a3-98a3-42de8d49539e\">\n",
              "  <button class=\"colab-df-quickchart\" onclick=\"quickchart('df-7ad7b13a-3b6e-47a3-98a3-42de8d49539e')\"\n",
              "            title=\"Suggest charts\"\n",
              "            style=\"display:none;\">\n",
              "\n",
              "<svg xmlns=\"http://www.w3.org/2000/svg\" height=\"24px\"viewBox=\"0 0 24 24\"\n",
              "     width=\"24px\">\n",
              "    <g>\n",
              "        <path d=\"M19 3H5c-1.1 0-2 .9-2 2v14c0 1.1.9 2 2 2h14c1.1 0 2-.9 2-2V5c0-1.1-.9-2-2-2zM9 17H7v-7h2v7zm4 0h-2V7h2v10zm4 0h-2v-4h2v4z\"/>\n",
              "    </g>\n",
              "</svg>\n",
              "  </button>\n",
              "\n",
              "<style>\n",
              "  .colab-df-quickchart {\n",
              "      --bg-color: #E8F0FE;\n",
              "      --fill-color: #1967D2;\n",
              "      --hover-bg-color: #E2EBFA;\n",
              "      --hover-fill-color: #174EA6;\n",
              "      --disabled-fill-color: #AAA;\n",
              "      --disabled-bg-color: #DDD;\n",
              "  }\n",
              "\n",
              "  [theme=dark] .colab-df-quickchart {\n",
              "      --bg-color: #3B4455;\n",
              "      --fill-color: #D2E3FC;\n",
              "      --hover-bg-color: #434B5C;\n",
              "      --hover-fill-color: #FFFFFF;\n",
              "      --disabled-bg-color: #3B4455;\n",
              "      --disabled-fill-color: #666;\n",
              "  }\n",
              "\n",
              "  .colab-df-quickchart {\n",
              "    background-color: var(--bg-color);\n",
              "    border: none;\n",
              "    border-radius: 50%;\n",
              "    cursor: pointer;\n",
              "    display: none;\n",
              "    fill: var(--fill-color);\n",
              "    height: 32px;\n",
              "    padding: 0;\n",
              "    width: 32px;\n",
              "  }\n",
              "\n",
              "  .colab-df-quickchart:hover {\n",
              "    background-color: var(--hover-bg-color);\n",
              "    box-shadow: 0 1px 2px rgba(60, 64, 67, 0.3), 0 1px 3px 1px rgba(60, 64, 67, 0.15);\n",
              "    fill: var(--button-hover-fill-color);\n",
              "  }\n",
              "\n",
              "  .colab-df-quickchart-complete:disabled,\n",
              "  .colab-df-quickchart-complete:disabled:hover {\n",
              "    background-color: var(--disabled-bg-color);\n",
              "    fill: var(--disabled-fill-color);\n",
              "    box-shadow: none;\n",
              "  }\n",
              "\n",
              "  .colab-df-spinner {\n",
              "    border: 2px solid var(--fill-color);\n",
              "    border-color: transparent;\n",
              "    border-bottom-color: var(--fill-color);\n",
              "    animation:\n",
              "      spin 1s steps(1) infinite;\n",
              "  }\n",
              "\n",
              "  @keyframes spin {\n",
              "    0% {\n",
              "      border-color: transparent;\n",
              "      border-bottom-color: var(--fill-color);\n",
              "      border-left-color: var(--fill-color);\n",
              "    }\n",
              "    20% {\n",
              "      border-color: transparent;\n",
              "      border-left-color: var(--fill-color);\n",
              "      border-top-color: var(--fill-color);\n",
              "    }\n",
              "    30% {\n",
              "      border-color: transparent;\n",
              "      border-left-color: var(--fill-color);\n",
              "      border-top-color: var(--fill-color);\n",
              "      border-right-color: var(--fill-color);\n",
              "    }\n",
              "    40% {\n",
              "      border-color: transparent;\n",
              "      border-right-color: var(--fill-color);\n",
              "      border-top-color: var(--fill-color);\n",
              "    }\n",
              "    60% {\n",
              "      border-color: transparent;\n",
              "      border-right-color: var(--fill-color);\n",
              "    }\n",
              "    80% {\n",
              "      border-color: transparent;\n",
              "      border-right-color: var(--fill-color);\n",
              "      border-bottom-color: var(--fill-color);\n",
              "    }\n",
              "    90% {\n",
              "      border-color: transparent;\n",
              "      border-bottom-color: var(--fill-color);\n",
              "    }\n",
              "  }\n",
              "</style>\n",
              "\n",
              "  <script>\n",
              "    async function quickchart(key) {\n",
              "      const quickchartButtonEl =\n",
              "        document.querySelector('#' + key + ' button');\n",
              "      quickchartButtonEl.disabled = true;  // To prevent multiple clicks.\n",
              "      quickchartButtonEl.classList.add('colab-df-spinner');\n",
              "      try {\n",
              "        const charts = await google.colab.kernel.invokeFunction(\n",
              "            'suggestCharts', [key], {});\n",
              "      } catch (error) {\n",
              "        console.error('Error during call to suggestCharts:', error);\n",
              "      }\n",
              "      quickchartButtonEl.classList.remove('colab-df-spinner');\n",
              "      quickchartButtonEl.classList.add('colab-df-quickchart-complete');\n",
              "    }\n",
              "    (() => {\n",
              "      let quickchartButtonEl =\n",
              "        document.querySelector('#df-7ad7b13a-3b6e-47a3-98a3-42de8d49539e button');\n",
              "      quickchartButtonEl.style.display =\n",
              "        google.colab.kernel.accessAllowed ? 'block' : 'none';\n",
              "    })();\n",
              "  </script>\n",
              "</div>\n",
              "\n",
              "  <div id=\"id_f8e5c2c4-8c95-4274-8d2e-922cfb2434be\">\n",
              "    <style>\n",
              "      .colab-df-generate {\n",
              "        background-color: #E8F0FE;\n",
              "        border: none;\n",
              "        border-radius: 50%;\n",
              "        cursor: pointer;\n",
              "        display: none;\n",
              "        fill: #1967D2;\n",
              "        height: 32px;\n",
              "        padding: 0 0 0 0;\n",
              "        width: 32px;\n",
              "      }\n",
              "\n",
              "      .colab-df-generate:hover {\n",
              "        background-color: #E2EBFA;\n",
              "        box-shadow: 0px 1px 2px rgba(60, 64, 67, 0.3), 0px 1px 3px 1px rgba(60, 64, 67, 0.15);\n",
              "        fill: #174EA6;\n",
              "      }\n",
              "\n",
              "      [theme=dark] .colab-df-generate {\n",
              "        background-color: #3B4455;\n",
              "        fill: #D2E3FC;\n",
              "      }\n",
              "\n",
              "      [theme=dark] .colab-df-generate:hover {\n",
              "        background-color: #434B5C;\n",
              "        box-shadow: 0px 1px 3px 1px rgba(0, 0, 0, 0.15);\n",
              "        filter: drop-shadow(0px 1px 2px rgba(0, 0, 0, 0.3));\n",
              "        fill: #FFFFFF;\n",
              "      }\n",
              "    </style>\n",
              "    <button class=\"colab-df-generate\" onclick=\"generateWithVariable('dataset')\"\n",
              "            title=\"Generate code using this dataframe.\"\n",
              "            style=\"display:none;\">\n",
              "\n",
              "  <svg xmlns=\"http://www.w3.org/2000/svg\" height=\"24px\"viewBox=\"0 0 24 24\"\n",
              "       width=\"24px\">\n",
              "    <path d=\"M7,19H8.4L18.45,9,17,7.55,7,17.6ZM5,21V16.75L18.45,3.32a2,2,0,0,1,2.83,0l1.4,1.43a1.91,1.91,0,0,1,.58,1.4,1.91,1.91,0,0,1-.58,1.4L9.25,21ZM18.45,9,17,7.55Zm-12,3A5.31,5.31,0,0,0,4.9,8.1,5.31,5.31,0,0,0,1,6.5,5.31,5.31,0,0,0,4.9,4.9,5.31,5.31,0,0,0,6.5,1,5.31,5.31,0,0,0,8.1,4.9,5.31,5.31,0,0,0,12,6.5,5.46,5.46,0,0,0,6.5,12Z\"/>\n",
              "  </svg>\n",
              "    </button>\n",
              "    <script>\n",
              "      (() => {\n",
              "      const buttonEl =\n",
              "        document.querySelector('#id_f8e5c2c4-8c95-4274-8d2e-922cfb2434be button.colab-df-generate');\n",
              "      buttonEl.style.display =\n",
              "        google.colab.kernel.accessAllowed ? 'block' : 'none';\n",
              "\n",
              "      buttonEl.onclick = () => {\n",
              "        google.colab.notebook.generateWithVariable('dataset');\n",
              "      }\n",
              "      })();\n",
              "    </script>\n",
              "  </div>\n",
              "\n",
              "    </div>\n",
              "  </div>\n"
            ],
            "application/vnd.google.colaboratory.intrinsic+json": {
              "type": "dataframe",
              "variable_name": "dataset",
              "summary": "{\n  \"name\": \"dataset\",\n  \"rows\": 5171,\n  \"fields\": [\n    {\n      \"column\": \"Unnamed: 0\",\n      \"properties\": {\n        \"dtype\": \"number\",\n        \"std\": 1492,\n        \"min\": 0,\n        \"max\": 5170,\n        \"num_unique_values\": 5171,\n        \"samples\": [\n          2924,\n          3839,\n          3078\n        ],\n        \"semantic_type\": \"\",\n        \"description\": \"\"\n      }\n    },\n    {\n      \"column\": \"label\",\n      \"properties\": {\n        \"dtype\": \"category\",\n        \"num_unique_values\": 2,\n        \"samples\": [\n          \"spam\",\n          \"ham\"\n        ],\n        \"semantic_type\": \"\",\n        \"description\": \"\"\n      }\n    },\n    {\n      \"column\": \"text\",\n      \"properties\": {\n        \"dtype\": \"string\",\n        \"num_unique_values\": 4993,\n        \"samples\": [\n          \"Subject: hpl / conoco - teco waha 03 / 23 / 01 purchase\\ndaren , conoco invoiced hpl at $ 5 . 87 for 03 / 23 at pgev / waha and deal ticket 685350 shows $ 4 . 87 . can you confirm the price ? thanks .\",\n          \"Subject: holiday on - call data\\npipeline contact phone fax pager\\nblack marlin blair lichentwalter 713 853 - 7367 713 646 - 3201 ( h )\\n281 370 - 1866\\ndebbie thompson 713 853 - 3144 713 646 - 3201\\n( noms due today for 23 rd through 27 th )\\nchannel jim tobacco 713 420 - 2159\\ngas control 1 505 599 - 2333\\n( open thursday . noms will be due through monday )\\ncentana william spekels 713 627 - 6290 713 762 - 3450\\ndonna spencer 713 627 - 6255\\ngas control 1 888 204 - 1718\\n( noms due today for 23 rd through 27 th )\\nduke energy annette anderson 713 260 - 8603 713 949 - 3026\\n( on call ) bob moseman 713 - 260 - 8698 ( thursday )\\nopen tomorrow - noms will be due thru the 27 th )\\nlonestar gary gafford 214 670 - 2674 214 875 - 3810\\ngas control 214 875 - 2455 or 2456\\n( noms due today , 23 rd thru 27 th )\\nnorthern natural ben markey 853 - 7581 cell 713 446 - 9404 800 931 - 0398\\n( on call ) charlie mosey 853 - 1520\\ngas control 853 -\\n( open thursday - noms due thru 27 th . )\\neast trans - east texas\\ntejas gas control 713 767 - 5366\\npaula svehla 713 230 - 3569\\nmickey chapman 713 230 - 3546\\n( open thursday - noms due thru 27 th )\\nmidcon ( y 2 k ) ken nachlinger 713 369 - 9284 713 369 - 9375 888 733 - 5954\\n( on call ) steven 888 790 - 0255\\n( y 2 k ) don 888 733 - 4602\\ngas control 713 369 - 9200\\n( noms due today , 23 rd thru 27 th )\\nmoss bluff no current business\"\n        ],\n        \"semantic_type\": \"\",\n        \"description\": \"\"\n      }\n    },\n    {\n      \"column\": \"label_num\",\n      \"properties\": {\n        \"dtype\": \"number\",\n        \"std\": 0,\n        \"min\": 0,\n        \"max\": 1,\n        \"num_unique_values\": 2,\n        \"samples\": [\n          1,\n          0\n        ],\n        \"semantic_type\": \"\",\n        \"description\": \"\"\n      }\n    }\n  ]\n}"
            }
          },
          "metadata": {},
          "execution_count": 3
        }
      ]
    },
    {
      "cell_type": "markdown",
      "source": [
        "### **Data Cleaning**"
      ],
      "metadata": {
        "id": "136i3wccMadu"
      }
    },
    {
      "cell_type": "code",
      "source": [
        "#Definisco funzioni per pulizia dei dati\n",
        "english_stopwords = stopwords.words('english')\n",
        "nlp = spacy.load('en_core_web_sm')\n",
        "punctuation = set(string.punctuation)\n",
        "\n",
        "def data_cleaner(dataset):\n",
        "    dataset_to_return = []\n",
        "    for sentence in dataset:\n",
        "        sentence = sentence.lower()\n",
        "        for c in string.punctuation:\n",
        "            sentence = sentence.replace(c, \" \")\n",
        "        document = nlp(sentence)\n",
        "        sentence = ' '.join(token.lemma_ for token in document)\n",
        "        sentence = ' '.join(word for word in sentence.split() if word not in english_stopwords)\n",
        "        sentence = re.sub('\\d', '', sentence)\n",
        "        dataset_to_return.append(sentence)\n",
        "\n",
        "    return dataset_to_return\n",
        "\n",
        "def bow_tfidf(dataset, tfidf_vectorizer):\n",
        "    if tfidf_vectorizer == None:\n",
        "        tfidf_vectorizer = TfidfVectorizer()\n",
        "        X=tfidf_vectorizer.fit_transform(dataset)\n",
        "    else:\n",
        "        X=tfidf_vectorizer.transform(dataset)\n",
        "    return X.toarray(), tfidf_vectorizer"
      ],
      "metadata": {
        "id": "ZzLB4YmNIkzi"
      },
      "execution_count": null,
      "outputs": []
    },
    {
      "cell_type": "code",
      "source": [
        "#Preparo dati\n",
        "\n",
        "X=dataset[\"text\"]\n",
        "y=dataset[\"label_num\"]\n",
        "\n",
        "#Definisco set di train e set di test\n",
        "X_train, X_test, y_train, y_test = train_test_split(X, y, test_size=0.2, random_state=42)\n",
        "\n",
        "#Pulisco dati\n",
        "training_data_cleaned, tfidf_vectorizer = bow_tfidf(data_cleaner(X_train), None)\n",
        "test_data_cleaned, tfidf_vectorizer = bow_tfidf(data_cleaner(X_test), tfidf_vectorizer)"
      ],
      "metadata": {
        "id": "FEyEAOHCIlAu"
      },
      "execution_count": null,
      "outputs": []
    },
    {
      "cell_type": "markdown",
      "source": [
        "### **Addestramento del classificatore per identificazione SPAM***"
      ],
      "metadata": {
        "id": "ieUmC6I2M4bt"
      }
    },
    {
      "cell_type": "code",
      "source": [
        "#Addestro modello\n",
        "clf = MLPClassifier(activation='logistic',\n",
        "                    hidden_layer_sizes=(100,),\n",
        "                    max_iter=100,\n",
        "                    solver='adam',\n",
        "                    tol=0.005,\n",
        "                    verbose=True)\n",
        "\n",
        "clf.fit(training_data_cleaned,y_train)"
      ],
      "metadata": {
        "colab": {
          "base_uri": "https://localhost:8080/",
          "height": 669
        },
        "collapsed": true,
        "id": "hVHw1jXmMysg",
        "outputId": "b13e5619-80d1-4260-8167-3a661eb6d901"
      },
      "execution_count": null,
      "outputs": [
        {
          "output_type": "stream",
          "name": "stdout",
          "text": [
            "Iteration 1, loss = 0.72510378\n",
            "Iteration 2, loss = 0.56877688\n",
            "Iteration 3, loss = 0.53243643\n",
            "Iteration 4, loss = 0.50182600\n",
            "Iteration 5, loss = 0.46934547\n",
            "Iteration 6, loss = 0.43467867\n",
            "Iteration 7, loss = 0.39722415\n",
            "Iteration 8, loss = 0.35845371\n",
            "Iteration 9, loss = 0.31879152\n",
            "Iteration 10, loss = 0.28107520\n",
            "Iteration 11, loss = 0.24586170\n",
            "Iteration 12, loss = 0.21449558\n",
            "Iteration 13, loss = 0.18716912\n",
            "Iteration 14, loss = 0.16383954\n",
            "Iteration 15, loss = 0.14400422\n",
            "Iteration 16, loss = 0.12726663\n",
            "Iteration 17, loss = 0.11312625\n",
            "Iteration 18, loss = 0.10118616\n",
            "Iteration 19, loss = 0.09100089\n",
            "Iteration 20, loss = 0.08235679\n",
            "Iteration 21, loss = 0.07487747\n",
            "Iteration 22, loss = 0.06851716\n",
            "Iteration 23, loss = 0.06294711\n",
            "Iteration 24, loss = 0.05816864\n",
            "Iteration 25, loss = 0.05388273\n",
            "Iteration 26, loss = 0.05019578\n",
            "Iteration 27, loss = 0.04693150\n",
            "Iteration 28, loss = 0.04400368\n",
            "Iteration 29, loss = 0.04142136\n",
            "Iteration 30, loss = 0.03911816\n",
            "Iteration 31, loss = 0.03702591\n",
            "Iteration 32, loss = 0.03516209\n",
            "Iteration 33, loss = 0.03346519\n",
            "Iteration 34, loss = 0.03194113\n",
            "Training loss did not improve more than tol=0.005000 for 10 consecutive epochs. Stopping.\n"
          ]
        },
        {
          "output_type": "execute_result",
          "data": {
            "text/plain": [
              "MLPClassifier(activation='logistic', max_iter=100, tol=0.005, verbose=True)"
            ],
            "text/html": [
              "<style>#sk-container-id-1 {color: black;background-color: white;}#sk-container-id-1 pre{padding: 0;}#sk-container-id-1 div.sk-toggleable {background-color: white;}#sk-container-id-1 label.sk-toggleable__label {cursor: pointer;display: block;width: 100%;margin-bottom: 0;padding: 0.3em;box-sizing: border-box;text-align: center;}#sk-container-id-1 label.sk-toggleable__label-arrow:before {content: \"▸\";float: left;margin-right: 0.25em;color: #696969;}#sk-container-id-1 label.sk-toggleable__label-arrow:hover:before {color: black;}#sk-container-id-1 div.sk-estimator:hover label.sk-toggleable__label-arrow:before {color: black;}#sk-container-id-1 div.sk-toggleable__content {max-height: 0;max-width: 0;overflow: hidden;text-align: left;background-color: #f0f8ff;}#sk-container-id-1 div.sk-toggleable__content pre {margin: 0.2em;color: black;border-radius: 0.25em;background-color: #f0f8ff;}#sk-container-id-1 input.sk-toggleable__control:checked~div.sk-toggleable__content {max-height: 200px;max-width: 100%;overflow: auto;}#sk-container-id-1 input.sk-toggleable__control:checked~label.sk-toggleable__label-arrow:before {content: \"▾\";}#sk-container-id-1 div.sk-estimator input.sk-toggleable__control:checked~label.sk-toggleable__label {background-color: #d4ebff;}#sk-container-id-1 div.sk-label input.sk-toggleable__control:checked~label.sk-toggleable__label {background-color: #d4ebff;}#sk-container-id-1 input.sk-hidden--visually {border: 0;clip: rect(1px 1px 1px 1px);clip: rect(1px, 1px, 1px, 1px);height: 1px;margin: -1px;overflow: hidden;padding: 0;position: absolute;width: 1px;}#sk-container-id-1 div.sk-estimator {font-family: monospace;background-color: #f0f8ff;border: 1px dotted black;border-radius: 0.25em;box-sizing: border-box;margin-bottom: 0.5em;}#sk-container-id-1 div.sk-estimator:hover {background-color: #d4ebff;}#sk-container-id-1 div.sk-parallel-item::after {content: \"\";width: 100%;border-bottom: 1px solid gray;flex-grow: 1;}#sk-container-id-1 div.sk-label:hover label.sk-toggleable__label {background-color: #d4ebff;}#sk-container-id-1 div.sk-serial::before {content: \"\";position: absolute;border-left: 1px solid gray;box-sizing: border-box;top: 0;bottom: 0;left: 50%;z-index: 0;}#sk-container-id-1 div.sk-serial {display: flex;flex-direction: column;align-items: center;background-color: white;padding-right: 0.2em;padding-left: 0.2em;position: relative;}#sk-container-id-1 div.sk-item {position: relative;z-index: 1;}#sk-container-id-1 div.sk-parallel {display: flex;align-items: stretch;justify-content: center;background-color: white;position: relative;}#sk-container-id-1 div.sk-item::before, #sk-container-id-1 div.sk-parallel-item::before {content: \"\";position: absolute;border-left: 1px solid gray;box-sizing: border-box;top: 0;bottom: 0;left: 50%;z-index: -1;}#sk-container-id-1 div.sk-parallel-item {display: flex;flex-direction: column;z-index: 1;position: relative;background-color: white;}#sk-container-id-1 div.sk-parallel-item:first-child::after {align-self: flex-end;width: 50%;}#sk-container-id-1 div.sk-parallel-item:last-child::after {align-self: flex-start;width: 50%;}#sk-container-id-1 div.sk-parallel-item:only-child::after {width: 0;}#sk-container-id-1 div.sk-dashed-wrapped {border: 1px dashed gray;margin: 0 0.4em 0.5em 0.4em;box-sizing: border-box;padding-bottom: 0.4em;background-color: white;}#sk-container-id-1 div.sk-label label {font-family: monospace;font-weight: bold;display: inline-block;line-height: 1.2em;}#sk-container-id-1 div.sk-label-container {text-align: center;}#sk-container-id-1 div.sk-container {/* jupyter's `normalize.less` sets `[hidden] { display: none; }` but bootstrap.min.css set `[hidden] { display: none !important; }` so we also need the `!important` here to be able to override the default hidden behavior on the sphinx rendered scikit-learn.org. See: https://github.com/scikit-learn/scikit-learn/issues/21755 */display: inline-block !important;position: relative;}#sk-container-id-1 div.sk-text-repr-fallback {display: none;}</style><div id=\"sk-container-id-1\" class=\"sk-top-container\"><div class=\"sk-text-repr-fallback\"><pre>MLPClassifier(activation=&#x27;logistic&#x27;, max_iter=100, tol=0.005, verbose=True)</pre><b>In a Jupyter environment, please rerun this cell to show the HTML representation or trust the notebook. <br />On GitHub, the HTML representation is unable to render, please try loading this page with nbviewer.org.</b></div><div class=\"sk-container\" hidden><div class=\"sk-item\"><div class=\"sk-estimator sk-toggleable\"><input class=\"sk-toggleable__control sk-hidden--visually\" id=\"sk-estimator-id-1\" type=\"checkbox\" checked><label for=\"sk-estimator-id-1\" class=\"sk-toggleable__label sk-toggleable__label-arrow\">MLPClassifier</label><div class=\"sk-toggleable__content\"><pre>MLPClassifier(activation=&#x27;logistic&#x27;, max_iter=100, tol=0.005, verbose=True)</pre></div></div></div></div></div>"
            ]
          },
          "metadata": {},
          "execution_count": 6
        }
      ]
    },
    {
      "cell_type": "code",
      "source": [
        "#Testo modello addestrato\n",
        "clf.score(test_data_cleaned, y_test)"
      ],
      "metadata": {
        "colab": {
          "base_uri": "https://localhost:8080/"
        },
        "id": "co2zIUMONQBM",
        "outputId": "8e47d802-456a-41a3-f15f-69c4b56e5458"
      },
      "execution_count": null,
      "outputs": [
        {
          "output_type": "execute_result",
          "data": {
            "text/plain": [
              "0.9855072463768116"
            ]
          },
          "metadata": {},
          "execution_count": 7
        }
      ]
    },
    {
      "cell_type": "markdown",
      "source": [
        "### **Individuare i Topic principali tra le email SPAM presenti nel dataset**"
      ],
      "metadata": {
        "id": "m5t3-ep3QDRN"
      }
    },
    {
      "cell_type": "code",
      "source": [
        "stop_words = stopwords.words('english')\n",
        "stop_words.extend(['from', 'subject', 're', 'edu', 'use'])\n",
        "\n",
        "def sent_to_words(items):\n",
        "    for item in items:\n",
        "        # deacc=True removes punctuations\n",
        "        yield(gensim.utils.simple_preprocess(str(item), deacc=True))\n",
        "\n",
        "def remove_stopwords(texts):\n",
        "    return [[word for word in words if word not in stop_words and len(word) >=5] for words in texts]\n",
        "\n",
        "data_words = list(sent_to_words(dataset[dataset['label_num'].isin([1])][\"text\"]))\n",
        "data_words = remove_stopwords(data_words)"
      ],
      "metadata": {
        "id": "y1OxV7WnNbey"
      },
      "execution_count": null,
      "outputs": []
    },
    {
      "cell_type": "code",
      "source": [
        "# Create Dictionary con libreria corpora passando lista di parlole ottenute nello step precedente\n",
        "id2word = corpora.Dictionary(data_words)\n",
        "\n",
        "#sostituisco le parole con vettori numerici\n",
        "corpus = [id2word.doc2bow(text) for text in data_words]"
      ],
      "metadata": {
        "id": "Cx8OE3CZQeRI"
      },
      "execution_count": null,
      "outputs": []
    },
    {
      "cell_type": "code",
      "source": [
        "# Numero di topic\n",
        "num_topics = 15\n",
        "\n",
        "# Costruisco modello LDA\n",
        "lda_model = gensim.models.LdaMulticore(corpus=corpus,\n",
        "                                       id2word=id2word,\n",
        "                                       num_topics=num_topics,\n",
        "                                       passes = 3)\n",
        "pprint(lda_model.print_topics())\n",
        "doc_lda = lda_model[corpus]\n"
      ],
      "metadata": {
        "colab": {
          "base_uri": "https://localhost:8080/"
        },
        "collapsed": true,
        "id": "2Cr_Dq9LQfSi",
        "outputId": "9c9fff4d-6576-4420-9167-f685d182697b"
      },
      "execution_count": null,
      "outputs": [
        {
          "output_type": "stream",
          "name": "stderr",
          "text": [
            "WARNING:gensim.models.ldamulticore:too few updates, training might not converge; consider increasing the number of passes or iterations to improve accuracy\n"
          ]
        },
        {
          "output_type": "stream",
          "name": "stdout",
          "text": [
            "[(0,\n",
            "  '0.004*\"price\" + 0.003*\"please\" + 0.003*\"software\" + 0.003*\"message\" + '\n",
            "  '0.002*\"email\" + 0.002*\"customers\" + 0.002*\"internet\" + 0.002*\"quality\" + '\n",
            "  '0.002*\"online\" + 0.002*\"order\"'),\n",
            " (1,\n",
            "  '0.028*\"height\" + 0.025*\"width\" + 0.018*\"align\" + 0.015*\"border\" + '\n",
            "  '0.014*\"color\" + 0.010*\"center\" + 0.008*\"bgcolor\" + 0.007*\"style\" + '\n",
            "  '0.006*\"index\" + 0.006*\"moopid\"'),\n",
            " (2,\n",
            "  '0.008*\"company\" + 0.004*\"stock\" + 0.004*\"statements\" + 0.003*\"words\" + '\n",
            "  '0.002*\"dosage\" + 0.002*\"email\" + 0.002*\"forward\" + 0.002*\"information\" + '\n",
            "  '0.002*\"report\" + 0.002*\"price\"'),\n",
            " (3,\n",
            "  '0.003*\"email\" + 0.003*\"content\" + 0.003*\"computron\" + 0.002*\"music\" + '\n",
            "  '0.002*\"please\" + 0.002*\"pills\" + 0.002*\"message\" + 0.002*\"information\" + '\n",
            "  '0.002*\"contact\" + 0.002*\"demokritos\"'),\n",
            " (4,\n",
            "  '0.015*\"company\" + 0.013*\"statements\" + 0.010*\"information\" + 0.007*\"within\" '\n",
            "  '+ 0.007*\"securities\" + 0.007*\"price\" + 0.006*\"report\" + 0.006*\"stock\" + '\n",
            "  '0.006*\"investment\" + 0.005*\"looking\"'),\n",
            " (5,\n",
            "  '0.007*\"online\" + 0.005*\"please\" + 0.003*\"would\" + 0.003*\"direct\" + '\n",
            "  '0.002*\"account\" + 0.002*\"prices\" + 0.002*\"click\" + 0.002*\"pharmacy\" + '\n",
            "  '0.002*\"prescription\" + 0.002*\"great\"'),\n",
            " (6,\n",
            "  '0.003*\"email\" + 0.003*\"cialis\" + 0.003*\"family\" + 0.003*\"pills\" + '\n",
            "  '0.003*\"indianapolis\" + 0.003*\"nascar\" + 0.002*\"style\" + 0.002*\"speedway\" + '\n",
            "  '0.002*\"software\" + 0.002*\"height\"'),\n",
            " (7,\n",
            "  '0.014*\"price\" + 0.013*\"windows\" + 0.013*\"adobe\" + 0.013*\"microsoft\" + '\n",
            "  '0.011*\"professional\" + 0.009*\"office\" + 0.006*\"software\" + '\n",
            "  '0.005*\"macromedia\" + 0.005*\"photoshop\" + 0.005*\"corel\"'),\n",
            " (8,\n",
            "  '0.004*\"account\" + 0.002*\"email\" + 0.002*\"online\" + 0.002*\"compartment\" + '\n",
            "  '0.002*\"please\" + 0.002*\"features\" + 0.002*\"message\" + 0.002*\"service\" + '\n",
            "  '0.002*\"money\" + 0.002*\"banking\"'),\n",
            " (9,\n",
            "  '0.012*\"computron\" + 0.008*\"contact\" + 0.007*\"please\" + 0.007*\"message\" + '\n",
            "  '0.005*\"prices\" + 0.004*\"reply\" + 0.004*\"remove\" + 0.004*\"microsoft\" + '\n",
            "  '0.004*\"special\" + 0.004*\"click\"'),\n",
            " (10,\n",
            "  '0.003*\"click\" + 0.003*\"company\" + 0.002*\"message\" + 0.002*\"please\" + '\n",
            "  '0.002*\"matter\" + 0.002*\"rates\" + 0.001*\"interest\" + 0.001*\"month\" + '\n",
            "  '0.001*\"cheap\" + 0.001*\"companies\"'),\n",
            " (11,\n",
            "  '0.008*\"computron\" + 0.006*\"message\" + 0.006*\"contact\" + 0.005*\"please\" + '\n",
            "  '0.004*\"email\" + 0.004*\"click\" + 0.004*\"reply\" + 0.004*\"drive\" + '\n",
            "  '0.003*\"remove\" + 0.003*\"prices\"'),\n",
            " (12,\n",
            "  '0.007*\"please\" + 0.006*\"account\" + 0.005*\"cialis\" + 0.004*\"money\" + '\n",
            "  '0.004*\"company\" + 0.004*\"million\" + 0.003*\"international\" + 0.003*\"number\" '\n",
            "  '+ 0.003*\"hours\" + 0.003*\"information\"'),\n",
            " (13,\n",
            "  '0.004*\"calls\" + 0.004*\"company\" + 0.004*\"rolex\" + 0.003*\"email\" + '\n",
            "  '0.003*\"international\" + 0.003*\"information\" + 0.002*\"artprice\" + '\n",
            "  '0.002*\"spain\" + 0.002*\"online\" + 0.002*\"please\"'),\n",
            " (14,\n",
            "  '0.026*\"pills\" + 0.009*\"viagra\" + 0.008*\"email\" + 0.004*\"health\" + '\n",
            "  '0.003*\"please\" + 0.003*\"cialis\" + 0.003*\"xanax\" + 0.003*\"weight\" + '\n",
            "  '0.003*\"prescription\" + 0.002*\"online\"')]\n"
          ]
        }
      ]
    },
    {
      "cell_type": "markdown",
      "source": [
        "### **Calcolare la distanza semantica tra i topics ottenuti, per dedurne l'eterogeneità.**"
      ],
      "metadata": {
        "id": "uGc55-ToQodb"
      }
    },
    {
      "cell_type": "code",
      "source": [
        "lda_topics = lda_model.show_topics()\n",
        "\n",
        "topics = []\n",
        "filters = [lambda x: x.lower(), strip_punctuation, strip_numeric]\n",
        "\n",
        "for topic in lda_topics:\n",
        "    topics.append(' '.join(preprocess_string(topic[1], filters)))"
      ],
      "metadata": {
        "id": "B4o5wqlsQpJr"
      },
      "execution_count": null,
      "outputs": []
    },
    {
      "cell_type": "code",
      "source": [
        "glove_vectors = gensim.downloader.load('glove-wiki-gigaword-300')"
      ],
      "metadata": {
        "colab": {
          "base_uri": "https://localhost:8080/"
        },
        "id": "mbQBCo9pQus0",
        "outputId": "5c378add-c2ef-4eaf-e136-e4665943c466"
      },
      "execution_count": null,
      "outputs": [
        {
          "output_type": "stream",
          "name": "stdout",
          "text": [
            "[==================================================] 100.0% 376.1/376.1MB downloaded\n"
          ]
        }
      ]
    },
    {
      "cell_type": "code",
      "source": [
        "#funzione per calcolare la media dei vettori\n",
        "def avg_vector(sentence): #input è una frase\n",
        "    to_remove = 0\n",
        "    vector = np.zeros(300) #definisco vettore iniziali di zeri\n",
        "    for word in sentence:\n",
        "        if word in glove_vectors.key_to_index.keys():\n",
        "            vector += glove_vectors.get_vector(word) #sommo al vettore iniziale il vettore dell aparola corrente se la arola è persente\n",
        "        else:\n",
        "            to_remove += 1 #contatore rimozione parole\n",
        "    if len(sentence)== to_remove:\n",
        "        return np.zeros(300) #se parole non presenti nel dizionaro\n",
        "\n",
        "    return vector/(len(sentence)-to_remove)"
      ],
      "metadata": {
        "id": "7kjW8nHEQzL5"
      },
      "execution_count": null,
      "outputs": []
    },
    {
      "cell_type": "code",
      "source": [
        "vectors = []\n",
        "\n",
        "for topic in topics:\n",
        "    vectors.append(avg_vector(data_cleaner(topic)))"
      ],
      "metadata": {
        "id": "BabNpMhRQzX6"
      },
      "execution_count": null,
      "outputs": []
    },
    {
      "cell_type": "code",
      "source": [
        "#Matrice per la raccolta delle informazioni della distanza semantica\n",
        "matrix = []\n",
        "\n",
        "for i in range(9):\n",
        "    n = []\n",
        "    for j in range(9):\n",
        "        number = 1 - spatial.distance.cosine(vectors[i], vectors[j])\n",
        "        n.insert(i+j,number)\n",
        "        #n.insert(number)\n",
        "        #print(n)\n",
        "\n",
        "    matrix.append(n)"
      ],
      "metadata": {
        "id": "e1ow1W0LQ63I"
      },
      "execution_count": null,
      "outputs": []
    },
    {
      "cell_type": "code",
      "source": [
        "print(matrix)\n",
        "#gli argomenti risultano omogenei tra loro"
      ],
      "metadata": {
        "colab": {
          "base_uri": "https://localhost:8080/"
        },
        "id": "MJ_slhNHQ7IC",
        "outputId": "d4900737-1037-4ef3-ab96-271633556185"
      },
      "execution_count": null,
      "outputs": [
        {
          "output_type": "stream",
          "name": "stdout",
          "text": [
            "[[1, 0.9775890517252992, 0.9780691391652386, 0.9633245410947089, 0.9958873456453695, 0.9872665024890537, 0.9787385354023153, 0.984115482115893, 0.9541619910381874], [0.9775890517252992, 1, 0.9746902792729046, 0.9552740365830642, 0.9753240525563983, 0.9838958487565014, 0.9735244759045326, 0.9908166563897013, 0.9845694951234117], [0.9780691391652386, 0.9746902792729046, 1, 0.972405637293648, 0.9774124565840863, 0.9840848584988503, 0.9799124776637229, 0.9775918417522569, 0.9661282276757523], [0.9633245410947089, 0.9552740365830642, 0.972405637293648, 1, 0.9622058791404184, 0.9658797962847739, 0.966615752712074, 0.9729832003094046, 0.9577193402578833], [0.9958873456453695, 0.9753240525563983, 0.9774124565840863, 0.9622058791404184, 1, 0.9933775187745016, 0.9859903943642666, 0.9857278825065289, 0.9554280937789], [0.9872665024890537, 0.9838958487565014, 0.9840848584988503, 0.9658797962847739, 0.9933775187745016, 1, 0.9866826998214494, 0.9906196034491302, 0.9755336524113646], [0.9787385354023153, 0.9735244759045326, 0.9799124776637229, 0.966615752712074, 0.9859903943642666, 0.9866826998214494, 1, 0.9748256782698688, 0.95380043791994], [0.984115482115893, 0.9908166563897013, 0.9775918417522569, 0.9729832003094046, 0.9857278825065289, 0.9906196034491302, 0.9748256782698688, 1, 0.987748199804528], [0.9541619910381874, 0.9845694951234117, 0.9661282276757523, 0.9577193402578833, 0.9554280937789, 0.9755336524113646, 0.95380043791994, 0.987748199804528, 1]]\n"
          ]
        }
      ]
    },
    {
      "cell_type": "markdown",
      "source": [
        "### **Estrarre dalle mail NON SPAM le Organizzazioni presenti.**"
      ],
      "metadata": {
        "id": "Qn17DLZEQ_vh"
      }
    },
    {
      "cell_type": "code",
      "source": [
        " #Carico un modello linguistico pre trained\n",
        "nlp = spacy.load('en_core_web_sm')"
      ],
      "metadata": {
        "id": "0gJmm9NOQ7Vq"
      },
      "execution_count": null,
      "outputs": []
    },
    {
      "cell_type": "code",
      "source": [
        "#Pulisco dati di input\n",
        "X_clean = data_cleaner(X)"
      ],
      "metadata": {
        "id": "_wX6IrLfRGrK"
      },
      "execution_count": null,
      "outputs": []
    },
    {
      "cell_type": "code",
      "source": [
        "#Estraggo organizzazioni\n",
        "i=0\n",
        "org=[]\n",
        "for i in range(len(X)):\n",
        "    doc = nlp(X_clean[i])\n",
        "    for token in doc:\n",
        "        #print(str(token) + \" : \"+ str(token.ent_type_))\n",
        "        if token.ent_type_ == \"ORG\":\n",
        "            if str(token) not in org:\n",
        "                org.insert(i,str(token))\n",
        "                i=i+1\n"
      ],
      "metadata": {
        "id": "KNhJMF2ERHFi"
      },
      "execution_count": null,
      "outputs": []
    },
    {
      "cell_type": "code",
      "source": [
        "print(org)"
      ],
      "metadata": {
        "colab": {
          "base_uri": "https://localhost:8080/"
        },
        "id": "HjYUGzndWh-R",
        "outputId": "100a8ce7-e4bc-4303-f8b9-e2b54a5f05eb"
      },
      "execution_count": null,
      "outputs": [
        {
          "output_type": "stream",
          "name": "stdout",
          "text": [
            "['shop', 'antique', 'locker', 'kids', 'foot', 'store', 'u', 'canada', 'participate', 'program', 'rnd', 'vocalscape', 'inc', 'bear', 'tenaska', 'keno', 'acton', 'mike', 'morris', 'corp', 'subject', 'fw', 'ercot', 'load', 'montana', 'oil', 'junglo', 'omit', 'resource', 'pat', 'parker', 'clynes', 'fidelity', 'freedom', 'fund', 'ddr', 'ram', 'ps', 'chokshi', 'usb', 'intel', 'toshiba', 'modem', 'notebookplus', 'cisco', 'period', 'zwftnqlp', 'oaohkv', 'icckmv', 'baum', 'osiyemi', 'ikeja', 'lago', 'nigeria', 'texas', 'bulletin', 'lone', 'star', 'office', 'date', 'internationa', 'txu', 'fuel', 'deal', 'chevron', 'louisiana', 'la', ' ', 'wagner', 'brown', 'contract', 'ypil', 'victor', 'join', 'yap', 'multi', 'carefully', 'decide', 'nationa', 'united', 'relevant', 'message', 'administration', 'affiliate', 'charlotte', 'byte', 'hawkin', 'contact', 'desk', 'logistic', 'group', 'haley', 'techlite', 'beecham', 'wieldlehigh', 'nfl', 'nike', 'allergydevoid', 'tcbb', 'reach', 'tech', 'lloyd', 'miller', 'marcus', 'houston', 'source', 'czu', 'epa', 'states', 'teiephone', 'pioneer', 'e', 'hplc', 'north', 'america', 'megan', 'lucy', 'lindholm', 'new', 'mail', 'eprakop', 'earthlink', 'angela', 'barulli', 'centrex', 'johns', 'chad', 'exxon', 'leeper', 'n', 'q', 'cliff', 'lotus', 'gulett', 'karamie', 'juliana', 'mccoy', 'hkiwc', 'eqwhmvqif', 'mrfxgabc', 'hnpehqd', 'time', 'lude', 'litig', 'ation', 'refo', 'mov', 'une', 'uvre', 'catalogue', 'de', 'daren', 'vente', 'page', 'un', 'ga', 'nick', 'euro', 'fioriicet', 'congolese', 'ots', 'lavorato', 'scott', 'josey', 'john', 'thompson', 'robert', 'eickenroht', 'william', 'justin', 'jeff', 'gilliam', 'staab', 'van', 'scoyk', 'x', 'notice', 'p', 'whitehead', 'hamas', 'cnn', 'fatah', 'palestinian', 'casualty', 'xvgwk', 'cpjtrsbqgogmjnyi', 'uknuilrj', 'moqwrcaigwvvfpsljzycp', 'k', 'gco', 'katherine', 'herrera', 'camp', 'bac', 'centana', 'mobil', 'pan', 'rincon', 'petroleum', 'tom', 'exchange', 'juno', 'urbanek', 'cec', 'porche', 'thomas', 'ronald', 'surber', 'pgp', 'shelton', 'ami', 'steve', 'jim', 'abidjan', 'epgt', 'milbank', 'follow', 'gcs', 'boeing', 'direct', 'fine', 'wein', 'records', 'division', 'cmg', 'mips', 'worldwide', 'salt', 'world', 'citibank', 'renown', 'knfbdcv', 'dtomi', 'symbol', 'maffett', 'david', 'forster', 'jason', 'abb', 'supp', 'alstom', 'power', 'althaus', 'inter', 'gra', 'generic', 'viagra', 'cheap', 'ge', 'modal', 'transportation', 'area', 'cumberland', 'dtoi', 'axle', 'system', 'lutianid', 'mislead', 'sepuchral', 'bze', 'international', 'soma', 'much', 'ec', 'robin', 'satiqsfie', 'imports', 'lincoln', 'catnip', 'dodson', 'gratifie', 'genuflex', 'apple', 'investments', 'profile', 'solicitation', 'nettle', 'kingston', 'tennessee', 'school', 'supreme', 'info', 'court', 'methanol', 'morgan', 'point', 'recommendation', 'moshou', 'security', 'investment', 'management', 'control', 'franklin', 'procure', 'gfymo', 'enxcf', 'gjxsd', 'partner', 'ltd', 'record', 'jbwfldy', 'wilmington', 'actual', 'yjycunv', 'msn', 'broadband', 'gop', 'pybus', 'republican', 'urf', 'leader', 'bombard', 'white', 'saxet', 'thompsonville', 'meter', 'shut', 'kupqtjbnvhyzk', 'z', 'nlgfxkbhfoedbc', 'house', 'pec', 'senate', 'capitol', 'abc', 'cbs', 'msnbc', 'che', 'johnson', 'nbc', 'journal', 'medicatimoln', 'viagxera', 'f', 'naivety', 'blennymenitis', 'mismate', 'playgoer', 'ibrom', 'el', 'paso', 'implacentate', 'psychogenetic', 'propound', 'hydromorphous', 'motor', 'att', 'client', 'refer', 'curry', 'gener', 'indira', 'drippy', 'pothole', 'case', 'mille', 'bayer', 'rove', 'percent', 'hydrophthalmos', 'v', 'evolutionary', 'fresh', 'triac', 'norton', 'gange', 'caramel', 'cialeqi', 'red', 'bank', 'business', 'nelson', 'ferry', 'crt', 'king', 'pamela', 'brbrbrbrbrbrbrbr', 'fiona', 'nikitaliverpoo', 'chambers', 'ena', 'crump', 'flat', 'duke', 'field', 'service', '\\x01', 'york', 'paliourg', 'offer', 'ferc', 'complimentary', 'medical', 'vitr', 'karen', 'mazowita', 'lindley', 'couvillon', 'rop', 'cia', 'ridia', 'eb', 'calpine', 'daily', 'box', 'nica', 'macromedia', 'concord', 'stock', 'counterparty', 'ferries', 'development', 'gantletmustache', 'corporation', 'atlantis', 'lehman', 'add', 'citicorp', 'special', 'toronto', 'sas', 'americas', 'griffith', 'solution', 'csgt', 'sap', 'partial', 'khindria', 'wowgao', 'milner', 'avenue', 'logo', 'ssqqozc', 'rmv', 'w', 'datum', 'center', 'sukaly', 'facility', 'washington', 'james', 'texoma', 'nomination', 'g', 'scribner', 'gulf', 'biomedical', 'trade', 'cent', 'depaolis', 'nwa', 'sanchez', 'villagomez', 'joann', 'collins', 'cynthia', 'angie', 'zeman', 'gillespie', 'sharifi', 'nom', 'mutual', 'saldivar', 'sr', 'marketing', 'boris', 'brevnov', 'communication', 'agra', 'action', 'garland', 'joseph', 'hirl', 'cdp', 'billy', 'lemmon', 'mile', 'nguyen', 'administrator', 'copano', 'fcc', 'old', 'kuwilamo', 'ref', 'fpmapo', 'edi', 'impact', 'cor', 'kerr', 'holiday', 'mcgee', 'environment', 'gcthree', 'ebs', 'portland', 'server', 'viagraa', 'vallium', 'barcelona', 'sse', 'fda', 'lot', 'around', '   ', 'quarter', 'end', 'september', 'google', 'vista', 'sears', 'present', 'website', 'repair', 'part', 'samson', 'gladiolus', 'goldberg', 'dai', 'dynamo', 'claret', 'devon', 'effloresce', 'iverson', 'puritanic', 'annals', 'daffodil', 'lodge', '  ', 'olson', 'vamdauw', 'uwajcvj', 'quest', 'fqiff', 'lsi', 'communal', 'runt', 'general', 'electric', 'omnicom', 'confession', 'moda', 'enviar', 'recibir', 'tus', 'pond', 'maurice', 'rayburn', 'clyne', 'hinze', 'peter', 'bennett', 'ron', 'green', 'myers', 'kenny', 'cooper', 'barbara', 'acacia', 'lewis', 'dfarmer', 'hou', 'ect', 'comfort', 'diflucan', 'ortho', 'evra', 'dev', 'patch', 'marlboro', 'tri', 'valtrex', 'zyban', 'trust', 'monica', 'jackson', 'michelle', 'paul', 'tv', 'das', 'ein', 'bieniawski', 'amoco', 'cinco', 'ranch', 'golf', 'pacific', 'resources', 'aristotle', 'delta', 'mining', 'allegra', 'exploration', 'twinspin', 'rov', 'negtvgdkhk', 'dxkuq', 'nnxbjf', 'shsyx', 'iejczcus', 'smwppxjgf', 'ncegpbldg', 'fjccw', 'national', 'equity', 'fcwkwjx', 'krshwz', 'pagzgg', 'bfctnvrvq', 'ltoqvbvst', 'peco', 'gtxdbs', 'cdexeg', 'fcenz', 'dru', 'idx', 'gs', 'pakmn', 'dkdqndz', 'rnclybg', 'zrdggv', 'bejttroci', 'astro', 'gold', 'amex', 'bgo', 'capital', 'california', 'replicas', 'winston', 'chopard', 'patek', 'philippe', 'vacheron', 'constantin', 'breguet', 'lange', 'clinoprroxene', 'bryson', 'c', 'jeter', 'midcon', 'saskatchewan', 'bolivian', 'commerce', 'visit', 'homestead', 'property', 'preparation', 'disclose', 'mbah', 'compliance', 'doomsday', 'cocavessis', 'southern', 'edmonton', 'navigator', 'ozark', 'union', 'city', 'gate', 'galveston', 'island', 'boas', 'compte', 'approx', 'cialis', 'contain', 'lor', 'oversee', 'risk', 'milnthorp', 'consultation', 'future', 'droit', 'banque', 'donnes', 'socit', 'artprice', 'nouveau', 'l', 'sur', 'haggle', 'pang', 'arcadia', 'glutamate', 'memphis', 'fresco', 'teor', 'rate', 'tphe', 'le', 'ccgm', 'krwefo', 'cqicrnwbhbr', 'cheapcaribbean', 'comjamaica', 'club', 'ambiance', 'air', 'jet', 'hawaii', 'hotel', 'toursparis', 'anc', 'gtktdqbr', 'intrastate', 'tnpc', 'file', 'commission', 'dxbfznq', 'qdlneex', 'xvnvmqa', 'mbuhq', 'janzen', 'na', 'martin', 'bee', 'nbotiofie', 'yowu', 'loo', 'pasadena', 'brawl', 'bandwagon', 'knife', 'goo', 'nxmo', 'law', 'chamber', 'hope', 'gap', 'gift', 'sidestep', 'yahoo', 'jgaughran', 'syscom', 'gmt', 'com', 'crosstex', 'reconcile', 'forward', 'carlos', 'pennzoil', 'driscoll', 'gpa', 'joe', 'jordan', 'metal', 'rock', 'meyer', 'kenney', 'oklahoma', 'pathogenic', 'cpu', 'olsen', 'beloit', 'lsp', 'enserch', 'yvette', 'connevey', 'handicapp', 'nl', 'donald', 'reinhardt', 'susan', 'george', 'software', 'parimutuel', 'bryan', 'hull', 'motorola', 'memoir', 'daniel', 'stephanie', 'clarke', 'nyu', 'severson', 'kdl', 'default', 'application', 'rmcetdf', 'ozaqgcf', 'lee', 'czjj', 'pajrtqy', 'global', 'cambric', 'oligarchy', 'mania', 'sitara', 'nis', 'pinnacle', 'impression', 'dvd', 'pro', 'enl', 'arg', 'hesco', 'nasa', 'state', 'problem', 'quality', 'rice', 'university', 'smu', 'woman', 'cut', 'gather', 'us', 'robotic', 'microsoft', 'ibm', 'sony', 'usa', 'congress', 'remain', 'retrieve', 'retro', 'password', 'gas', 'mogi', 'alberta', 'energy', 'deveioper', 'news', 'muiti', 'million', 'penny', 'smith', 'hoff', 'halogen', 'gaylord', 'abet', 'heller', 'mjg', 'doug', 'send', '     ', 'ext', 'garrick', 'hill', 'charles', 'ward', 'kevin', 'infotex', 'xrpeuop', 'vcsdlr', 'dvqjhfjxa', 'wiimjvn', 'frame', 'ivrkzvmo', 'efmxg', 'icwsyjgv', 'holdings', 'schield', 'enw', 'watch', 'authentic', 'reproduction', 'hl', 'pipeline', 'central', 'illinois', 'light', 'cannon', 'interest', 'praxair', 'bvlgari', 'glashute', 'baker', 'misty', 'lothian', 'foreign', 'relations', 'committee', 'wet', 'fundraise', 'aimee', 'lannou', 'boggle', 'jersey', 'crewman', 'naples', 'pentagon', 'redelivery', 'different', 'establish', 'available', 'american', 'airlines', 'cony', 'beagon', 'mesa', 'press', 'price', 'movement', 'fx', 'terpsichorean', 'shirk', 'fbi', 'iretee', 'base', 'inn', 'mineral', 'please', 'boston', 'katy', 'renault', 'gda', 'kit', 'banish', 'invoice', 'h', 'kelly', 'ellis', 'statement', 'enr', 'revise', 'mary', 'comello', 'vaquilla', 'km', 'australia', 'singapore', 'pm', 'month', 'leeward', 'dang', 'ghostly', 'bowman', 'barbarism', 'corona', 'foster', 'deferent', 'coffee', 'deep', 'shakespearian', 'odd', 'handwrite', 'conoco', 'miss', 'stigmata', 'matriarchal', 'colosseum', 'amtrak', 'buttercup', 'grand', 'gaza', 'authority', 'corpsman', 'irs', 'hughashburn', 'dbb', 'sa', 'lynnbottlinger', 'hotmail', 'gte', 'net', 'seu', 'christian', 'janet', 'lebroc', 'samsung', 'argus', 'site', 'mcloughlin', 'mason', 'hamlin', 'causey', 'environmental', 'urgent', 'nyse', 'iceberg', 'michael', 'benien', 'jennifer', 'gwb', 'jburnett', 'foxsport', 'worldnet', 'startech', 'jcoll', 'cowan', 'brenda', 'monarch', 'ag', 'aol', 'jhxc', 'durham', 'ti', 'phoenix', 'coin', 'animation', 'bueno', 'dia', 'nan', 'tara', 'bhetuyaa', 'crma', 'earnshaw', 'carcinoma', 'fermat', 'monteverdi', 'ac', 'lpfitz', 'wt', 'rjflorio', 'jgroce', 'limit', 'pgpu', 'acquisition', 'vlcod', 'ntermin', 'som', 'mkxcyvozibdj', 'dba', 'garrison', 'fyi', 'ativ', 'revia', 'plus', 'il', 'bu', 'metals', 'aerofoam', 'eade', 'declaimer', 'treasury', 'profiie', 'fm', 'geneva', 'paean', 'pawnshop', 'calico', 'decor', 'battalion', 'mont', 'blanc', 'bvgari', 'panerai', 'lec', 'finland', 'shingle', 'delilah', 'conductor', 'stron', 'fonta', 'depredate', 'landfill', 'hilcorp', 'minibike', 'opossum', 'codicil', 'aorta', 'amphibology', 'cactus', 'cavernous', 'midband', 'courier', 'drop', 'numismatist', 'critique', 'gecko', 'regale', 'contemporary', 'poetry', 'pool', 'wilson', 'selman', 'vcf', 'miriam', 'parke', 'print', 'oniy', 'lasercomm', 'juggernaut', 'arco', 'dah', 'phinojos', 'micro', 'honeywell', 'mjkereluk', 'jenabug', 'merrill', 'erinsneedham', 'mrightm', 'mci', 'diana', 'seal', 'email', 'org', 'warner', 'ont', 'huish', 'adriana', 'saldana', 'dahlia', 'crimea', 'homeowner', 'wassup', 'detergents', 'mastercard', 'lockhart', 'sql', 'du', 'nng', 'waha', 'march', 'kathleen', 'lou', 'pai', 'street', 'elebrex', 'ng', 'ln', 'october', 'r', 'watersco', 'xana', 'jaguar', 'bronx', 'commodity', 'confidential', 'woodrow', 'teco', 'xcyxslnk', 'jiuezmb', 'yphht', 'vaiium', 'hwjll', 'tesoro', 'nfjgat', 'berkeley', 'chase', 'marol', 'rebecca', 'manhattan', 'cody', 'canterbury', 'fatty', 'gallup', 'pyrex', 'hygrometer', 'sedge', 'texaco', 'san', 'cleveland', 'weir', 'gordon', 'mtv', 'england', 'impale', 'pobox', 'rosa', 'turvy', 'felipe', 'situate', 'fpc', 'tdwzurbas', 'agrbrsnq', 'xrhwbjh', 'yfunb', 'andzyrbn', 'milan', 'waterproof', 'stainless', 'steel', 'ytajgqx', 'fronterra', 'park', 'paralegal', 'phone', 'update', 'chianti', 'autocrat', 'ebay', 'foyer', 'nooooooo', 'koreaherbal', 'grey', 'appraisal', 'bess', 'shaffer', 'dielectric', 'bremsstrahlung', 'genotype', 'smalltime', 'deliberate', 'byroad', 'columbia', 'history', 'logistics', 'fray', 'sullivan', 'rich', 'seder', 'wisenheimer', 'stucco', 'ache', 'slingshot', 'vlagr', 'vialium', 'pnterm', 'bi', 'nata', 'jerriw', 'arn', 'joeaggie', 'christa', 'ahg', 'kia', 'yakel', 'yarbrough', 'god', 'bless', 'free', 'nation', 'transport', 'tool', 'photometry', 'devious', 'sauerkraut', 'crow', 'calger', 'focus', 'link', 'west', 'rvpv', 'vre', 'bqhvj', 'kbxj', 'knndvu', 'maiille', 'allixon', 'stella', 'intl', 'axcp', 'korea', 'heavy', 'engineer', 'wilkinson', 'klein', 'romancer', 'trait', 'wynn', 'ambient', 'mirfak', 'williams', 'mcdonald', 'evhchgf', 'dttkghl', 'ktt', 'cb', 'islamic', 'selllacquer', 'shallower', 'ocean', 'craig', 'pzt', 'mnl', 'wpo', 'gyqzb', 'hguzfh', 'joln', 'gtyxau', 'zqbmfn', 'ucsekn', 'rohm', 'haas', 'yjyw', 'lhyic', 'cdsc', 'zszr', 'nwztfc', 'joa', 'xkcsuz', 'phillip', 'mmc', 'cql', 'frank', 'vicker', 'mahoney', 'transmission', 'cc', 'someone', 'feb', 'eliot', 'orlando', 'seville', 'whatley', 'ba', 'brandee', 'bob', 'calgary', 'keohane', 'legal', 'integration', 'screw', 'tussioneex', 'ed', 'eos', 'acquaint', 'ltv', 'jaw', 'articulate', 'newport', 'jan', 'yon', 'bladder', 'drool', 'turkey', 'djakarta', 'bandstop', 'tina', 'valadez', 'newsweek', 'ppm', 'nooooo', 'hideaway', 'demean', 'shagbark', 'anselm', 'tehran', 'alsop', 'paddle', 'venice', 'acadia', 'agrarian', 'scada', 'ascent', 'keye', 'peppery', 'annette', 'cationic', 'baronet', 'grebe', 'bucketfull', 'relation', 'knuckle', 'affair', 'tridiagonal', 'elephantine', 'ernest', 'czarina', 'mcfd', 'jangle', 'dirac', 'mausoleum', 'darrell', 'authenticclaire', 'betty', 'atmospheric', 'alleyway', 'birefringent', 'motors', 'lengthenpolaron', 'anderson', 'kin', 'keyboard', 'hertz', 'redstone', 'rydberg', 'cadmium', 'nsf', 'reuters', 'htmlmedia', 'bridge', 'beaumont', 'cehfbqhm', 'levfdfal', 'titgsndtl', 'fhyesuw', 'value', 'idftkyjv', 'jacobus', 'blatz', 'carbide', 'elision', 'cowbell', 'debbie', 'mt', 'belvieu', 'trident', 'ngl', 'dustin', 'brcc', 'ministry', 'molina', 'promotion', 'uranus', 'babysit', 'apperception', 'tinsel', 'webb', 'enrononline', 'suncor', 'sunoco', 'boyce', 'contrary', 'medi', 'sordo', 'fraser', 'classy', 'wallboard', 'bunsen', 'va', 'ium', 'gigabyte', 'doddery', 'goatherd', 'sudoriferous', 'member', 'wavefrtl', 'quench', 'betray', 'rudimentary', 'dapper', 'northampton', 'bed', 'palsy', 'camden', 'team', 'elisabeth', 'semiramis', 'yawl', 'stain', 'harvard', 'ldp', 'swede', 'mart', 'lead', 'louise', 'polygon', 'cabinet', 'persecution', 'allan', 'pomona', 'comanche', 'clique', 'sicilian', 'achromatic', 'brex', 'moluccas', 'ellenberger', 'smithsonian', 'alamo', 'grata', 'eel', 'meg', 'malone', 'tax', 'gary', 'mgi', 'peng', 'stephen', 'schwarzbach', 'cyprian', 'tigris', 'brett', 'baldwin', 'caneum', 'current', 'spinnaker', 'contribute', 'sport', 'tock', 'counci', 'firestone', 'berra', 'henri', 'xbr', 'physical', 'fitness', 'nba', 'inteiligent', 'continue', 'uttermost', 'congest', 'walt', 'egm', 'apachi', 'dance', 'select', 'calme', 'make', 'agency', 'ecm', 'walker', 'oleomargarine', 'eim', 'eott', 'zamer', 'prc', 'rep', 'disney', 'igent', 'comtrex', 'sports', 'fame', 'inteliigent', 'one', 'cr', 'exports', 'south', 'crown', 'flow', 'kuehler', 'tank', 'st', 'belize', 'bobolink', 'gem', 'officer', 'position', 'exception', 'brute', 'krypton', 'elena', 'megaton', 'cochran', 'leonid', 'lumberman', 'confirm', 'correction', 'darren', 'farmer', 'chide', 'brownie', 'phenolic', 'dartmouth', 'clockwork', 'clap', 'downhill', 'serendipitous', 'dada', 'bella', 'donnell', 'elmsford', 'dee', 'campus', 'encryption', 'bitternut', 'bfhoqf', 'slicyivqu', 'asaieqy', 'qiwszlr', 'ubvtmt', 'tpbvzbs', 'jthorhzkp', 'lbezygric', 'take', 'mercantile', 'irving', '                                            ', 'railroad', '\\x16', 'gyetr', 'hard', 'presas', 'amanda', 'gmxeml', 'iavlwbji', 'spmbsxz', 'msxtwbdn', 'ghgblzqpx', 'cxiejqz', 'vwdfasiyo', 'bidomdm', 'kainbojwt', 'zpwapnw', 'pontiac', 'piedmont', 'receive', 'jump', '\\x12', 'emit', 'complain', 'bedfast', 'rankine', 'thoriate', 'withvourbon', 'lineepharmacyqyou', 'gyroscope', 'arachnidsubstantive', 'funny', 'kyle', 'college', 'sos', 'station', 'save', 'drug', 'canoe', 'delft', 'effluvium', 'mash', 'arrowhead', 'mooney', 'dogmatic', 'garibaldi', 'coastal', 'clal', 'change', 'vl', 'discount', 'window', 'mafia', 'hurst', 'nebraska', 'lacquer', 'porphyry', 'canberra', 'crosswort', 'lilly', 'lauri', 'bernard', 'widacki', 'depressible', 'psychotherapeutic', 'pay', 'sally', 'shannon', 'eddie', 'rob', 'wilcott', 'manager', 'rachel', 'davis', 'ford', 'darron', 'giron', 'julie', 'goodfriend', 'western', 'reliability', 'council', 'gruesen', 'hall', 'caroline', 'nugent', 'ews', 'falcon', 'sharp', 'patricia', 'spence', 'amy', 'deana', 'taylor', 'bernella', 'bartz', 'stacey', 'marian', 'briscoe', 'aneela', 'clark', 'chris', 'mailto', 'ship', 'channel', 'less', 'winnie', 'ngai', 'thien', 'huong', 'loyd', 'cumming', 'pierson', 'lillie', 'dominguez', 'mark', 'ees', 'east', 'joey', 'esperance', 'sherri', 'kathol', 'leblanc', 'ling', 'li', 'kori', 'lieu', 'loibl', 'alan', 'gat', 'normal', 'command', 'marsh', 'bruce', 'klussman', 'accountant', 'michigan', 'director', 'cross', 'first', 'methodist', 'church', 'corner', 'antioch', 'missionary', 'baptist', 'handie', 'medica', 'community', 'services', '        ', '       ', 'bundie', 'dan', 'gore', 'healthgroup', 'glib', 'gloss', 'colgate', 'argumentation', 'contest', 'adolph', 'affront', 'allwardt', 'buy', 'leon', 'branom', 'alwond', 'hp', 'develop', 'bloomington', 'china', 'duane', 'fritz', 'gpg', 'bronco', 'postwar', 'retribution', 'elastic', 'fad', 'saudi', 'arabia', 'bill', 'corporate', 'constellate', 'posse', 'hackle', 'incur', 'chapter', 'osmium', 'delaware', 'camilla', 'administrative', 'london', 'travel', 'mondragon', 'otc', 'ifxh', 'small', 'emerge', 'liz', 'patsy', 'kindermorgan', 'growth', 'quantum', 'leap', 'technology', 'holding', 'messenger', 'electronic', 'atlanta', 'big', 'day', 'numericom', 'complete', 'eric', 'refinery', 'saibi', 'enron', 'christy', 'followup', 'mandey', 'board', 'transactions', 'remark', 'game', 'al', 'money', 'sec', 'itra', 'nlarge', 'factua', 'information', 'report', 'kim', 'edition', 'tx', 'compaq', 'glo', 'westvaco', 'nominate', 'th', 'chapman', 'doyle', 'valdez', 'fax', 'greensboro', 'nc', 'reserve', 'gremlin', 'akin', 'counterflow', 'announce', 'networks', 'build', 'company', 'adr', 'htm', 'mix', 'network', 'franz', 'bonn', 'cherry', 'jamesl', 'monster', 'dlscount', 'marseille', 'trace', 'cayanosa', 'fall', 'kink', 'blouse', 'href', 'mitochondria', 'fat', 'shuttle', 'express', 'alaska', 'expedia', 'hyatt', 'regency', 'creek', 'fig', 'simi', 'magnatum', 'delici', 'bry', 'interrogator', 'cogen', 'gaudy', 'crockett', 'harelip', 'sperry', 'polyhymnia', 'bates', 'tripod', 'droop', 'gnarl', 'flo', 'tuscany', 'calorie', 'rafferty', 'lute', 'quarry', 'julia', 'carpentry', 'jukes', 'babysitter', 'kenneth', 'jeanne', 'wukasch', 'roye', 'waldhauser', 'mwongozi', 'uacp', 'uauthorize', 'prayer', 'nashville', 'unocal', 'schellenberg', 'cdnow', 'http', 'krenek', 'juliann', 'moulton', 'costa', 'ethyl', 'schematic', 'florist', 'cloudburst', 'acapulco', 'frieze', 'auriga', 'fleece', 'brainstorm', 'newspaperman', 'eeoc', 'aisle', 'atalanta', 'extinguish', 'artemis', 'foss', 'enervate', 'morgen', 'madsen', 'bianco', 'avocet', 'gooseberry', 'devonshire', 'awhile', 'incident', 'bart', 'wronskian', 'pantry', 'arisen', 'tunnel', 'olivetti', 'blanche', 'buddy', 'majorwitz', 'joanie', 'xaftfffip', 'kyhqoor', 'epohpxtp', 'qaalu', 'jzjoen', 'aamlrg', 'lwnamlj', 'cdsjmxacv', 'qfukrwbo', 'gernf', 'fbhtrcjv', 'xdfyr', 'gzniec', 'home', 'handle', 'lines', 'line', 'orleans', '    ', 'southwest', 'ug', 'transco', 'attl', 'grndsnla', 'gordan', 'forging', 'production', 'nd', 'cf', 'cum', 'fie', 'gif', 'align', 'centernbsp', 'body', 'athena', 'dod', 'edwardine', 'shovel', 'hodge', 'mendelssohn', 'brusque', 'roberta', 'davit', 'legion', 'martial', 'plankton', 'vwgqre', 'ffej', 'jmthbbg', 'ku', 'tkozfpyifsn', 'valisum', 'xadnax', 'prolzac', 'musscle', 'huntley', 'cochrane', 'compendia', 'myrrh', 'kenton', 'boatload', 'columbus', 'marlin', 'amendment', 'melissa', 'lynx', 'pipe', 'coast', 'bakhtiari', 'dougherty', 'wal', 'japan', 'president', 'europe', 'organization', 'include', 'fix', 'smrzz', 'dnyuv', 'jttsb', 'goforthesoft', 'detail', 'epitope', 'informatics', 'nr', 'consett', 'dh', 'emerson', 'eogi', 'gain', 'wi', 'creditor', 'ubs', 'citigroup', 'bp', 'royal', 'scotland', 'plc', 'aquila', 'labor', 'department', 'sutton', 'mauricio', 'pensacola', 'mkt', 'mich', 'auf', 'ia', 'right', 'hector', 'kwm', 'mwcsv', 'ypei', 'hskpiz', 'mmjohc', 'rky', 'fmvcn', 'xzvoj', 'xltzo', 'xkqm', 'ghhxaz', 'kgpurn', 'xisrza', 'tjt', 'uiey', 'pci', 'qbye', 'gcsawh', 'gvh', 'khgev', 'uoac', 'xjapn', 'workbench', 'magazine', 'jig', 'puc', 'bauxite', 'churchyard', 'moneywort', 'apatite', 'elsevi', 'philology', 'andersen', 'celluloid', 'frankfurt', 'banshee', 'hookworm', 'eex', 'financial', 'handler', 'autodesk', 'corel', 'swsxle', 'csd', 'xcq', 'rfvdi', 'rbqzgz', 'pym', 'tfwg', 'xfo', 'ibb', 'ebjixj', 'idtdiz', 'rew', 'lnk', 'complaint', 'mess', 'ticket', 'pharmacy', 'outlets', 'caribbean', 'cma', 'symphony', 'ipo', 'hold', 'nevada', 'actinic', 'gordian', 'philippine', 'edison', 'ellipsoid', 'sod', 'eldon', 'chevrolet', 'farm', 'easy', 'exon', 'intron', 'loganville', 'wawasan', 'greenery', 'picojoule', 'ligature', 'malevolent', 'clifton', 'manometer', 'philadelphia', 'cannonball', 'muscovite', 'dana', 'daigle', 'srm', 'ascii', 'army', 'airline', 'scriptt', 'doxxcstctorr', 'nologie', 'cornhusker', 'annemarie', 'hgm', 'stone', 'cell', 'louis', 'dreyfus', 'nat', 'dupont', 'beamont', 'templeton', 'memo', 'brent', 'vastar', 'high', 'student', 'wild', 'snowy', 'independence', 'notre', 'dame', 'cheery', 'bundoora', 'mahayana', 'burnham', 'nostalgic', 'scum', 'divalent', 'chilean', 'daydream', 'weighty', 'rotarian', 'jelly', 'liken', 'pentagram', 'internet', 'deveiope', 'multinationa', 'sabrae', 'wasl', '      ', 'fill', 'vacancy', 'cooley', 'lank', 'connotation', 'ecf', 'ggra', 'lousy', 'iimor', 'prescrlption', 'erilneede', 'rosenzweig', 'whatsoever', 'jambalaya', 'margaritas', 'knight', 'vmhjbeae', 'kbwnbxb', 'yqjxkjam', 'vpeiqsj', 'ojlohsdh', 'ugylgr', 'jueopstr', 'noagl', 'kjqhkwrbo', 'housework', 'cap', 'kraft', 'alistair', 'scrawny', 'protactinium', 'labyrinth', 'churchillian', 'descant', 'anodic', 'insurmountable', 'sharpe', 'cadaverous', 'crumb', 'clothesbrush', 'colossi', 'primitiva', 'b', 'ro', 'ice', 'doubloon', 'pepsi', 'thud', 'autocorrelate', 'mcdermott', 'betrayeraustria', 'bundestag', 'automatel', 'exxonmobil', 'charlott', 'polodasha', 'sapphire', 'lucas', 'ledzep', 'vermont', 'guinness', 'bullet', 'passionvalhalla', 'frederic', 'beautifu', 'scanner', 'mit', 'ihnen', 'glich', 'den', 'kontakt', 'uqueyvisxkhi', 'prop', 'mediccationn', 'lowesst', 'pricess', 'everyy', 'offf', 'bym', 'specialist', 'melinda', 'issue', 'responsibility', 'documentation', 'aburrell', 'utilicorp', 'plan', 'come', 'various', 'tenasksa', 'iv', 'manage', 'helpdesk', 'von', 'berall', 'ohne', 'vuittonet', 'laura', 'adamik', 'ben', 'execute', 'aka', 'ponderosa', 'pine', 'apache', 'dalla', 'hpl', 'hello', 'room', 'jenuwine', 'cicero', 'credenza', 'mccabe', 'bradley', 'koenig', 'carrabine', 'greg', 'kathryn', 'corbally', 'stuart', 'staley', 'mcgowan', 'wasaff', 'meredith', 'philipp', 'cardoso', 'tec', 'tten', 'adrian', 'adrrf', 'beau', 'bau', 'bou', 'brigham', 'bexp', 'canfibre', 'cfgl', 'carrizo', 'crzo', 'costilla', 'cynet', 'cyne', 'cypress', 'firstworld', 'communications', 'fwis', 'hanover', 'ihii', 'inln', 'kafus', 'industries', 'paladin', 'plr', 'plg', 'cn', 'quanta', 'pwr', 'queen', 'sand', 'qsri', 'quicksilver', 'kwk', 'saxon', 'sxn', 'royalty', 'syntroleum', 'trc', 'tdi', 'transcoastal', 'marine', 'tcms', 'conduct', 'sheet', 'nathaniel', 'extend', 'european', 'kbps', 'ene', 'pdf', 'zomtc', 'cmt', 'wesj', 'pmr', 'pnhlqv', 'ysgi', 'vzqcfq', 'yqwe', 'msjx', 'svzqgl', 'mrc', 'nsv', 'zrrzlq', 'xpx', 'tbr', 'rotxf', 'bsejii', 'dhny', 'hnd', 'xqnta', 'rkm', 'aomyq', 'kkgyv', 'dot', 'hgh', 'safe', 'advanced', 'penis', 'diet', 'breast', 'attract', 'wpzza', 'pher', 'party', 'gpm', 'graham', 'newark', 'pharmaceutic', 'bechtel', 'colonial', 'croon', 'snp', 'jeanell', 'drive', 'alexus', 'rhone', 'cbx', 'attn', 'vicodin', 'junky', 'enterprise', 'blush', 'hanz', 'nowww', 'engt', 'kslkbkcrbavoc', 'healthcare', 'attempt', 'onl', 'ine', 'super', 'sav', 'meridia', 'dear', 'cynthiadepeche', 'demodulate', 'lamay', 'germany', 'radio', 'telephone', 'russia', 'cabie', 'randall', 'etn', 'provider', 'entertainment', 'georgia', 'comtex', 'lauraan', 'certicom', 'freeman', 'developer', 'builder', 'custom', 'oo', 'ooo', 'advisor', 'llc', 'limited', 'partnership', 'gsu', 'camille', 'gerard', 'balfour', 'flanagan', 'anne', 'bike', 'veronica', 'espinoza', 'hillman', 'nathan', 'hlavaty', 'corey', 'hobbs', 'mills', 'vargas', 'plato', 'floor', 'cetera', 'raleigh', 'cygnus', 'yankee', 'newcastle', 'carboxybookend', 'clipboard', 'stiffseclusion', 'cavort', 'daimlercrossbow', 'chlorate', 'centrifugeover', 'beguile', 'nutate', 'cs', 'captaino', 'pnbsp', 'azerbaijan', 'riga', 'limpet', 'bulk', 'delphinium', 'sideway', 'bandstand', 'memorial', 'sail', 'caret', 'alltel', 'bros', 'legend', 'collection', 'bunny', 'cartoon', 'doodle', 'bug', 'chance', 'vioxx', 'admitter', 'commemorate', 'dutchman', 'psychopathic', 'realplayer', 'blanca', 'bollom', 'feldt', 'php', 'weo', 'good', 'mip', 'lisa', 'lunz', 'rabia', 'basit', 'jeanmard', 'morela', 'hernandez', 'reid', 'hansen', 'vicente', 'edwards', 'ruth', 'ping', 'ken', 'loch', 'brooks', 'biery', 'kelley', 'terry', 'riegler', 'weldon', 'crook', 'theresa', 'isrntv', 'bingo', 'birthplace', 'publiclt', 'outsource', 'exist', 'perform', 'transcription', 'nokia', 'lium', 'fioric', 'xi', 'bus', 'stanley', 'sub', 'address', 'onshore', 'offshore', 'imjvclxxm', 'tpmktlgw', 'fefsmwve', 'riqfiitvi', 'lmrto', 'mmzyip', 'tsxgnvu', 'nwhtk', 'rkhfbb', 'hinwvhea', 'klhhu', 'mcpcy', 'pareow', 'yeasp', 'rslhxncpb', 'bxpaax', 'oihdpxk', 'hrnpyyp', 'jqnwsba', 'gmqxpqu', 'tpfiyxn', 'qtnufy', 'zimsftwbd', 'xzfzoofr', 'dnisew', 'xoqigx', 'yfqhfrsrl', 'ruqgplxxd', 'hfoubzu', 'perregaux', 'glashutte', 'iwc', 'heuer', 'ulysse', 'vip', 'rolex', 'jlro', 'nb', 'voxl', 'ylhp', 'chanel', 'escada', 'fendi', 'ferragamo', 'gucci', 'vuitton', 'omega', 'oris', 'prada', 'puma', 'rado', 'richardson', 'hyvl', 'heidi', 'gardner', 'pbu', 'muqiw', 'flh', 'bbb', 'font', 'withbr', 'abramo', 'danny', 'conner', 'berkeland', 'parks', 'may', 'maggi', 'lucci', 'goodell', 'troy', 'black', 'tammi', 'sean', 'boyle', 'fangme', 'zhu', 'carey', 'brucellosis', 'melodrama', 'reel', 'positron', 'alfresco', 'spartan', 'verbal', 'hdcx', 'genierc', 'platonic', 'crescent', 'erda', 'jinx', 'preemption', 'despond', 'chomp', 'gustav', 'impartial', 'peritectic', 'blur', 'contradistinction', 'hydroxyl', 'haine', 'damascus', 'backboard', 'ditzel', 'alveolus', 'daisy', 'fulton', 'kodak', 'brim', 'formulae', 'memento', 'cwtd', 'xinhua', 'prnewswire', 'firstcall', 'ceo', 'penetrate', 'bien', 'phentiermine', 'bombast', 'carrel', 'pbs', 'bombay', 'gallop', 'billboard', 'capsule', 'dandy', 'gasoline', 'wingspan', 'wait', 'clytemnestra', 'cofactor', 'square', 'carlson', 'dunkirk', 'christiana', 'kinder', 'stg', 'wgr', 'eastern', 'lobby', 'inform', 'reply', 'require', 'example', 'safari', 'brian', 'riley', 'mickey', 'bell', 'lake', 'attitudedamon', 'storytellersandra', 'hierarchal', 'hollisterdrastic', 'epiphysishorizontal', 'chest', 'desecrate', 'nymph', 'duplicatefell', 'generalist', 'bewhisker', 'everhart', 'persuasive', 'hang', 'cheung', 'sha', 'I', 'philip', 'declare', 'guadalupe', 'transition', 'defs', 'rebeccaurchin', 'octile', 'norwayplanar', 'roll', 'dollar', 'ecobank', 'meeessaageee', 'decommission', 'bridgetown', 'wizard', 'petal', 'eigenspace', 'clobber', 'siltstone', 'anqorbr', 'zaeaxtmw', 'auultgk', 'pevnsron', 'zkeqbcu', 'xirqca', 'qkwzymsr', 'sqkqmeo', 'drthkpd', 'kunbfif', 'urdvcgcx', 'zgblkaj', 'szdzvylc', 'zyqtaqlt', 'huneke', 'diane', 'gouveia', 'kansas', 'duplex', 'sierra', 'chess', 'edith', 'hyperbolic', 'eyeball', 'league', 'millikan', 'gingham', 'downfall', 'worthington', 'charlottesville', 'custodial', 'subvert', 'lacerta', 'arclength', 'vestige', 'blanchard', 'selma', 'inculcate', 'provocateur', 'raven', 'addison', 'antiperspirant', 'doubleday', 'ackley', 'ductile', 'chortle', 'mustachio', 'sham', 'bawl', 'fledge', 'polarogram', 'thrush', 'forbore', 'volkswagen', 'wan', 'sunglasse', 'connoisseur', 'connive', 'cit', 'bradshaw', 'melville', 'troubador', 'classify', 'scopic', 'warn', 'abject', 'catapult', 'tarbell', 'dogbane', 'dairymen', 'deflater', 'safety', 'visual', 'der', 'rollup', 'corbett', 'reeeemoooooveeeee', 'frequent', 'rhenium', 'proviso', 'vengeance', 'ferreira', 'motel', 'shylock', 'crocus', 'paddy', 'viva', 'nellie', 'kremlin', 'alifie', 'ana', 'fiori', 'termin', 'alb', 'asst', 'hilton', 'sister', 'tribute', 'willis', 'boren', 'connie', 'stuckey', 'corby', 'stacie', 'plane', 'land', 'earth', 'railway', 'france', 'hannibal', 'dick', 'myrightstimulate', 'youwhile', 'mizar', 'vir', 'roz', 'busp', 'ad', 'thais', 'hensch', 'barnett', 'tel', 'cote', 'deposit', 'cameron', 'gpgfin', 'suzanne', 'avril', 'mclaughlin', 'crisis', 'cinm', 'ddsr', 'association', 'dealer', 'nadir', 'perceive', 'lifeguard', 'contractual', 'cyrillic', 'nell', 'nippon', 'berlitz', 'publication', 'introduce', 'bmw', 'commit', 'wearisome', 'lithospheric', 'crossway', 'eduardo', 'lucille', 'melvin', 'archangel', 'broccoli', 'doll', 'germanium', 'acquire', 'stepwise', 'lipton', 'beacon', 'headache', 'odin', 'duel', 'veranda', 'condolence', 'zocor', 'ppksvk', 'grmzde', 'mirbgklv', 'oinrgxug', 'yrmnwavl', 'kyyeasy', 'ymmdzvpfr', 'vcwnh', 'uppzzfypb', 'kxkhkirjn', 'jyquf', 'pmvsjkrko', 'qdvog', 'bnktg', 'fugnfb', 'bcbhglpf', 'hjicctoii', 'epgradu', 'fzfxierqi', 'rdxvywhsq', 'wstlladh', 'ihndmmrx', 'mfwoldrhu', 'mvae', 'asltom', 'soneor', 'ano', 'wjw', 'mjoghk', 'qldkz', 'hvs', 'ry', 'ju', 'rxatzpy', 'ihpw', 'wl', 'kaf', 'rojdhu', 'strongwe', 'trongdidrex', 'dcenter', 'digital', 'payperview', 'fwd', 'draw', 'age', 'child', 'pa', 'amazing', 'healing', 'nov', 'frontera', 'clint', 'janice', 'berke', 'spirit', 'minerals', 'gspm', 'bryce', 'broomcorn', 'alphameric', 'trainman', 'haw', 'myoglobin', 'haiti', 'pizzicato', 'steed', 'harris', 'vickie', 'gonsoulin', 'magnolia', 'son', 'ander', 'football', 'coach', 'cable', 'kingwood', 'qj', 'vail', 'resort', 'tm', 'trademark', 'blockbuster', 'wwbe', 'roemco', 'cartridge', 'bible', 'rey', 'derby', 'insane', 'breadwinner', 'ichneumon', 'inhibitor', 'jablonsky', 'constance', 'cabal', 'nap', 'psychotherapist', 'swig', 'frustrate', 'enigmatic', 'detriment', 'clu', 'pps', 'gerald', 'roven', 'panasonic', 'sirius', 'ainet', 'npr', 'pri', 'gm', 'announcement', 'personalize', 'xisexyix', 'bxisexyix', 'surfgrl', 'bsurfgrl', 'fatsrhombus', 'prozac', 'gg', 'virology', 'dip', 'iona', 'min', 'ri', 'yc', 'julissa', 'marron', 'boal', 'friend', 'consolidated', 'wagon', 'nomad', 'ndin', 'technologies', 'lmb', 'seek', 'pursuant', 'propose', 'consideration', 'key', 'stat', 'lsjtzht', 'zmpem', 'rapjvrz', 'ykrnvxzr', 'ogzqe', 'wgjezsmte', 'nurhdak', 'sosucett', 'ghvpmapc', 'gkqdgdgjq', 'vgvbuvj', 'qqjatg', 'ybgikagi', 'think', 'iwl', 'lexington', 'ky', 'goodlett', 'ii', 'wendy', 'barbour', 'kathy', 'hanny', 'kensington', 'andre', 'lefebvre', 'gaetanne', 'hetherington', 'shanie', 'melanson', 'emma', 'donley', 'uunila', 'krista', 'leila', 'rise', 'colin', 'evans', 'ferrari', 'schwab', 'briana', 'blue', 'ayer', 'alabama', 'missy', 'carol', 'kilgore', 'holcomb', 'longview', 'lich', 'como', 'handheldmedr', 'bioelectronics', 'bioelectronic', 'county', 'verification', 'beit', 'miliion', 'equa', 'fiat', 'wil', 'surge', 'fraserpress', 'tyler', 'cutshall', 'smart', 'finny', 'latson', 'iit', 'demokrito', 'kenob', 'indx', 'yate', 'genex', 'pharmaceutical', 'tianjin', 'food', 'particle', 'rbx', 'dis', 'claimer', 'dmi', 'silty', 'bird', 'placenta', 'diphthong', 'replace', 'responsible', 'cost', 'call', 'valenzuela', 'wrigiey', 'depot', 'match', 'owner', 'event', 'mnei', 'say', 'mca', 'penls', 'nowcllck', 'burnell', 'cashew', 'newsletter', 'caulk', 'monitor', 'robertson', 'emblem', 'desideratum', 'carte', 'basketball', 'trivia', 'buffet', 'switch', 'lrc', 'rtu', 'allen', 'anna', 'uiar', 'capabiiity', 'savimbi', 'angola', 'africa', 'avcp', 'advantage', 'portfolio', 'reduce', 'road', 'accordance', 'transaction', 'leverage', 'staff', 'colspan', 'shona', 'norma', 'yeverino', 'seleznov', 'snark', 'solemn', 'concentric', 'karachi', 'politburo', 'stockroom', 'financier', 'wombat', 'consortium', 'ammeter', 'gadwall', 'review', 'screen', 'gpt', 'industry', 'dog', 'zinc', 'mine', 'queensland', 'caterpillar', 'html', 'kaolin', 'magnesium', 'environmenta', 'foilowing', 'itec', 'project', 'piastic', 'recycie', 'caiifornia', 'oakdale', 'calif', 'ob', 'muehistein', 'co', 'ocate', 'butt', 'bestseller', 'marginalia', 'bolster', 'whereon', 'crouch', 'gallantry', 'gunsle', 'requisition', 'stank', 'sportswear', 'serbia', 'exculpate', 'lumbermen', 'chantey', 'bodybuilde', 'convivial', 'betelgeuse', 'philosopher', 'prefix', 'vault', 'iroquois', 'coronet', 'yalta', 'bipartite', 'deemphasize', 'haunch', 'desist', 'polopony', 'marshall', 'candle', 'lighting', 'hoskin', 'metro', 'snapshot', 'linguist', 'bethlehem', 'butyrate', 'annoyance', 'nos', 'rex', 'dell', 'order', 'confirmation', 'clickathome', 'oxford', 'britain', 'sun', 'newspaper', 'br', 'india', 'nbsp', 'orderbr', 'applel', 'bulletcuddle', 'masterl', 'guido', 'promethe', 'hanson', 'bootstheke', 'xxxx', 'eu', 'country', 'wysak', 'diversified', 'nacogodoche', 'guyana', 'las', 'vegas', 'wire', 'aug', 'choice', 'comment', 'diamond', 'purpose', 'final', 'term', 'negotiate', 'claim', 'permit', 'additionally', 'demand', 'caution', 'bough', 'harp', 'agile', 'argot', 'qepr', 'kjr', 'outloan', 'phibro', 'valero', 'hebe', 'dominique', 'panel', 'euridyce', 'heinz', 'handshake', 'machinery', 'edt', 'esophagi', 'lummox', 'broker', 'accurate', 'estimate', 'fox', 'oprah', 'zenoil', 'toy', 'forget', 'subscriber', 'stockbroker', 'tradestar', 'engage', 'low', 'reenter', 'drill', 'tirr', 'amphotech', 'beverly', 'tomcat', 'pdn', 'nj', 'raam', 'enle', 'racl', 'xta', 'zui', 'huge', 'esperanza', 'standard', 'kristen', 'poorman', 'aiberta', 'playboy', 'gloria', 'doc', 'investisseur', 'recherche', 'dans', 'pendant', 'crise', 'socio', 'riode', 'cinq', 'ann', 'mieux', 'ce', 'fond', 'vous', 'quelle', 'aware', 'dhttp', 'www', 'populardrug', 'agdxxw', 'intszetz', 'iqucas', 'fuscvq', 'wfovcn', 'iimnt', 'fvoja', 'xelbbjllk', 'ltety', 'jfwtoeglo', 'dkfoac', 'lxlhe', 'qkmni', 'iukbpl', 'wvbyxtvff', 'piynzdec', 'hezzkkpj', 'xtfryu', 'fariba', 'bachelor', 'finance', 'roulette', 'baccarat', 'becken', 'coe', 'florida', 'woodward', 'coefficient', 'crowbait', 'blurry', 'conceit', 'shay', 'fiche', 'effie', 'rooftree', 'bondsman', 'gorgon', 'pastiche', 'histrionic', 'punctuate', 'germanic', 'idol', 'sarcastic', 'barn', 'ada', 'grotesque', 'summer', 'isp', 'madeline', 'christmas', 'amelie', 'praise', 'godzilla', 'foolredwe', 'kingdom', 'pacer', 'blare', 'saigon', 'walium', 'apex', 'currency', 'speedo', 'opportunity', 'region', 'dri', 'cowboy', 'jlopez', 'aep', 'ehxjuscnmccjbcm', 'sxldi', 'framboesia', 'dxxtin', 'amphitryon', 'workperson', 'eupepsia', 'mahound', 'barbican', 'cause', 'magnetosheath', 'llandaff', 'maugham', 'estragon', 'daisycutter', 'ethnarch', 'fuad', 'btoadstone', 'taogy', 'larine', 'madurai', 'hispaniola', 'jorum', 'pontianak', 'indic', 'donny', 'vardon', 'bagie', 'kakkerman', 'yxzbhr', 'blenny', 'ireynosa', 'swabia', 'attaboy', 'dmorea', 'ybro', 'verrett', 'junoesque', 'glossology', 'granada', 'elgon', 'langlauf', 'wallah', 'bilobate', 'chuckwalla', 'carouse', 'deoxyribonucleic', 'kiddie', 'antoine', 'hepatica', 'modesty', 'walton', 'homotopy', 'leth', 'mar', 'calculate', 'alliance', 'tetra', 'nasdaq', 'monumental', 'parallel', 'adsero', 'rapidly', 'expand', 'aderso', 'demonstrate', 'see', 'crispin', 'adelia', 'teasel', 'aristocrat', 'bsite', 'netshingle', 'roulston', 'gcp', 'sherlyn', 'hbcamp', 'truong', 'nzbsudpbpsjibwvfxskr', 'ztv', 'halfway', 'huxley', 'blonde', 'drone', 'life', 'insurance', 'quote', 'welcome', 'homeland', 'supply', 'screet', 'ck', 'buff', 'yuh', 'espionage', 'unipolar', 'venture', 'amaze', 'bulwark', 'counterargument', 'lateral', 'claritin', 'zyrtec', 'arava', 'rheumatrex', 'ambien', 'smoke', 'bll', 'postcode', 'lottery', 'ruddy', 'genesco', 'debugg', 'duty', 'olga', 'gravel', 'idolatry', 'sll', 'semitic', 'wells', 'fargo', 'customer', 'society', 'earthwatch', 'institute', 'sandlapper', 'phc', 'plea', 'somewhere', 'comprise', 'unit', 'function', 'ray', 'dave', 'counsel', 'dietrich', 'frevert', 'wholesale', 'haedicke', 'stan', 'horton', 'federal', 'private', 'lyon', 'christine', 'unsatisfie', 'ksc', 'aladdin', 'rosetta', 'pam', 'newsome', 'ryan', 'wood', 'fre', 'salina', 'keith', 'spark', 'aaron', 'mackey', 'juneman', 'ncessry', 'dragon', 'hoop', 'judd', 'blab', 'lactate', 'hay', 'arty', 'marc', 'evangelic', 'bolshevist', 'deem', 'ferric', 'ideal', 'calfskin', 'anthropomorphic', 'polk', 'hereby', 'ingersoll', 'icebox', 'gest', 'xv', 'acvbv', 'sfoxtkvr', 'chum', 'comrade', 'kitty', 'mikelgoblue', 'tex', 'svcs', 'amsterdam', 'zuid', 'ipd', 'mvl', 'dropbox', 'sci', 'stress', 'relief', 'original', 'igho', 'kadiri', 'slum', 'arm', 'yo', 'xual', 'des', 'est', 'pbr', 'bwnbsp', 'postcard', 'revolutionary', 'echo', 'per', 'repsonse', 'drexel', 'electro', 'troll', 'aficionado', 'brushy', 'nuptial', 'thereon', 'neuroanotomy', 'coda', 'cleanse', 'durrell', 'pilgrim', 'electret', 'beresford', 'gripe', 'histamine', 'chisholm', 'befog', 'fecund', 'dempsey', 'dalton', 'jameson', 'lance', 'mei', 'xiaojun', 'luu', 'mellita', 'joanne', 'mitchell', 'dominic', 'ednan', 'senior', 'professional', 'quickenloan', 'clem', 'changeover', 'donaldson', 'malice', 'hawley', 'caine', 'emaciate', 'dirge', 'arousal', 'medicate', 'lowrate', 'lender', 'sophocle', 'joo', 'data', 'systems', 'know', 'reuter', 'youneed', 'symbo', 'verizon', 'jack', 'daniels', 'dripping', 'wmeon', 'sign', 'agreement', 'devoted', 'building', 'brand', 'list', 'cwtc', 'platform', 'facilitate', 'executive', 'tiyu', 'subsidiary', 'scan', 'dsl', 'hypothalamus', 'sect', 'drake', 'bladderwort', 'hera', 'illegitimacy', 'german', 'carnal', 'furthermost', 'parr', 'ebullient', 'anomaly', 'kerygma', 'muskox', 'healthful', 'chuckle', 'circa', 'bemoan', 'demagogue', 'counterfeit', 'blastula', 'productivity', 'postmultiply', 'chicago', 'alibi', 'earmark', 'gogh', 'chariot', 'armco', 'rockie', 'schooner', 'bodyguard', 'bathroom', 'kulak', 'thrash', 'censure', 'numerische', 'xoxdqga', 'contracting', 'plainfield', 'xjy', 'wpt', 'jgc', 'honesty', 'anise', 'deregulatory', 'levee', 'carlo', 'bang', 'ambrosia', 'jacm', 'glenda', 'maximilian', 'pathetic', 'bernie', 'languid', 'scaie', 'chemical', 'sound', 'short', 'ventures', 'gci', 'usr', 'faxmodem', 'log', 'ehronline', 'number', 'pyle', 'tc', 'intention', 'oi', 'parish', 'revenue', 'arkana', 'initia', 'register', 'littie', 'contro', 'searobin', 'garden', 'nakib', 'cyanamid', 'angst', 'knick', 'chateaux', 'diego', 'gagwriter', 'calamity', 'giggle', 'flashy', 'christianson', 'gillette', 'bro', 'jessamy', 'priice', 'jmlfehdhkf', 'cohen', 'pvvyuqrsu', 'mtnhurdle', 'uf', 'abyssinia', 'itoy', 'comwww', 'export', 'nova', 'riyadh', 'bryn', 'apollonian', 'chubby', 'lugwig', 'wallstreet', 'ksign', 'ticker', 'int', 'mop', 'purchaser', 'westonia', 'break', 'ground', 'moonta', 'walleroo', 'copper', 'brazil', 'contracta', 'valid', 'xyvoqldtkmr', 'ikoogybhmxdc', 'ohdgnianbq', 'hyxziccxe', 'republic', 'multicell', 'gph', 'neric', 'pineville', 'cir', 'java', 'mbt', 'mbysoi', 'jh', 'kunynyi', 'nkh', 'jogyarq', 'rtl', 'chfmn', 'rsy', 'pu', 'gic', 'pwb', 'kla', 'kndprscoa', 'jta', 'vivian', 'cromwellian', 'imbecile', 'hindmost', 'committeeman', 'hifalutin', 'borland', 'dow', 'jones', 'newswires', 'mdq', 'cle', 'bos', 'dc', 'dca', 'mia', 'golden', 'pdx', 'los', 'angeles', 'hockey', 'marquette', 'museum', 'southeast', 'comair', 'brbr', 'ft', 'lesswrl', 'pic', 'ark', 'main', 'speedway', 'motorsport', 'race', 'renew', 'nascar', 'speedpark', 'chapin', 'venue', 'kundin', 'wurde', 'wegen', 'tageskonten', 'getroffen', 'ihre', 'iot', 'advantaqes', 'effect', 'biank', 'prespentt', 'kent', 'ppe', 'larryl', 'hazeljeff', 'reznor', 'cpy', 'uregent', 'alert', 'mez', 'show', 'vatican', 'portugal', 'mobile', 'third', 'rockefeller', 'evelyn', 'jvvhyz', 'olnqmc', 'plo', 'hnpi', 'byr', 'vec', 'bpif', 'fuz', 'nichola', 'burke', 'donovan', 'cci', 'netin', 'mcfaddin', 'jennings', 'gpo', 'commonwealth', 'reg', 'merger', 'enichem', 'nicholie', 'npe', 'advise', 'reference', 'honest', 'happen']\n"
          ]
        }
      ]
    }
  ]
}
